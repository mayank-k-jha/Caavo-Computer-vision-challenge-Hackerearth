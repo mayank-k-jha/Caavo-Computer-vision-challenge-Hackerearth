{
  "nbformat": 4,
  "nbformat_minor": 0,
  "metadata": {
    "colab": {
      "name": "Pretrained_VGG.ipynb",
      "version": "0.3.2",
      "views": {},
      "default_view": {},
      "provenance": [],
      "collapsed_sections": []
    },
    "kernelspec": {
      "name": "python3",
      "display_name": "Python 3"
    },
    "accelerator": "GPU"
  },
  "cells": [
    {
      "metadata": {
        "id": "peMQiFnVnR73",
        "colab_type": "code",
        "colab": {
          "autoexec": {
            "startup": false,
            "wait_interval": 0
          },
          "base_uri": "https://localhost:8080/",
          "height": 34
        },
        "outputId": "439c4369-10b1-4884-b16e-52ea31968e95",
        "executionInfo": {
          "status": "ok",
          "timestamp": 1524369320533,
          "user_tz": -330,
          "elapsed": 8797,
          "user": {
            "displayName": "Mayank Kumar Jha",
            "photoUrl": "//lh4.googleusercontent.com/-rU8C7qpFbC0/AAAAAAAAAAI/AAAAAAAAApI/tPTkODEOVxI/s50-c-k-no/photo.jpg",
            "userId": "114858840825635846618"
          }
        }
      },
      "cell_type": "code",
      "source": [
        "import pandas as pd\n",
        "import numpy as np\n",
        "import matplotlib.pyplot as plt\n",
        "import gc\n",
        "import seaborn as sns\n",
        "import matplotlib.pyplot as plt\n",
        "\n",
        "import tensorflow as tf\n",
        "\n",
        "from keras.applications import VGG16\n",
        "\n",
        "import cv2 as cv\n",
        "\n",
        "import zipfile\n",
        "\n",
        "from keras import models,layers\n",
        "import os,shutil\n",
        "from keras.preprocessing.image import ImageDataGenerator \n",
        "from keras import optimizers,metrics\n",
        "\n",
        "from collections import Counter\n",
        "\n",
        "\n",
        "from keras.models import Sequential\n",
        "from keras.layers import Dense, Dropout, Activation, Flatten\n",
        "from keras.optimizers import Adam\n",
        "from keras.layers.normalization import BatchNormalization\n",
        "from keras.utils import np_utils\n",
        "from keras.layers import Conv2D, MaxPooling2D, ZeroPadding2D, GlobalAveragePooling2D\n",
        "from keras.layers.advanced_activations import LeakyReLU \n",
        "from keras.preprocessing.image import ImageDataGenerator"
      ],
      "execution_count": 2,
      "outputs": [
        {
          "output_type": "stream",
          "text": [
            "Using TensorFlow backend.\n"
          ],
          "name": "stderr"
        }
      ]
    },
    {
      "metadata": {
        "id": "QUufqfWTngDz",
        "colab_type": "code",
        "colab": {
          "autoexec": {
            "startup": false,
            "wait_interval": 0
          },
          "base_uri": "https://localhost:8080/",
          "height": 34
        },
        "outputId": "f64a23b5-1192-49af-ec27-b130c23de5d3",
        "executionInfo": {
          "status": "ok",
          "timestamp": 1524369389187,
          "user_tz": -330,
          "elapsed": 1176,
          "user": {
            "displayName": "Mayank Kumar Jha",
            "photoUrl": "//lh4.googleusercontent.com/-rU8C7qpFbC0/AAAAAAAAAAI/AAAAAAAAApI/tPTkODEOVxI/s50-c-k-no/photo.jpg",
            "userId": "114858840825635846618"
          }
        }
      },
      "cell_type": "code",
      "source": [
        "tf.test.gpu_device_name()"
      ],
      "execution_count": 5,
      "outputs": [
        {
          "output_type": "execute_result",
          "data": {
            "text/plain": [
              "'/device:GPU:0'"
            ]
          },
          "metadata": {
            "tags": []
          },
          "execution_count": 5
        }
      ]
    },
    {
      "metadata": {
        "id": "s5FTGn5enszd",
        "colab_type": "code",
        "colab": {
          "autoexec": {
            "startup": false,
            "wait_interval": 0
          },
          "base_uri": "https://localhost:8080/",
          "height": 272
        },
        "outputId": "fc2986dd-6900-41f4-b1c2-556a0be3d47a",
        "executionInfo": {
          "status": "ok",
          "timestamp": 1524369560703,
          "user_tz": -330,
          "elapsed": 1371,
          "user": {
            "displayName": "Mayank Kumar Jha",
            "photoUrl": "//lh4.googleusercontent.com/-rU8C7qpFbC0/AAAAAAAAAAI/AAAAAAAAApI/tPTkODEOVxI/s50-c-k-no/photo.jpg",
            "userId": "114858840825635846618"
          }
        }
      },
      "cell_type": "code",
      "source": [
        "[len(os.listdir('../dataset/train/'+i)) for i in os.listdir('../dataset/train/')] "
      ],
      "execution_count": 14,
      "outputs": [
        {
          "output_type": "execute_result",
          "data": {
            "text/plain": [
              "[7383,\n",
              " 1124,\n",
              " 706,\n",
              " 1124,\n",
              " 4104,\n",
              " 4575,\n",
              " 615,\n",
              " 7952,\n",
              " 5568,\n",
              " 4771,\n",
              " 3377,\n",
              " 7143,\n",
              " 2642,\n",
              " 591,\n",
              " 4364]"
            ]
          },
          "metadata": {
            "tags": []
          },
          "execution_count": 14
        }
      ]
    },
    {
      "metadata": {
        "id": "mTwDXhe1noUt",
        "colab_type": "code",
        "colab": {
          "autoexec": {
            "startup": false,
            "wait_interval": 0
          },
          "base_uri": "https://localhost:8080/",
          "height": 51
        },
        "outputId": "474e1119-dd03-41ae-b884-e1d7b7a2ca9a",
        "executionInfo": {
          "status": "ok",
          "timestamp": 1524369570100,
          "user_tz": -330,
          "elapsed": 2527,
          "user": {
            "displayName": "Mayank Kumar Jha",
            "photoUrl": "//lh4.googleusercontent.com/-rU8C7qpFbC0/AAAAAAAAAAI/AAAAAAAAApI/tPTkODEOVxI/s50-c-k-no/photo.jpg",
            "userId": "114858840825635846618"
          }
        }
      },
      "cell_type": "code",
      "source": [
        "conv_base = VGG16(weights='imagenet',include_top=False,input_shape=(100, 100, 3))"
      ],
      "execution_count": 15,
      "outputs": [
        {
          "output_type": "stream",
          "text": [
            "Downloading data from https://github.com/fchollet/deep-learning-models/releases/download/v0.1/vgg16_weights_tf_dim_ordering_tf_kernels_notop.h5\n",
            "58892288/58889256 [==============================] - 1s 0us/step\n"
          ],
          "name": "stdout"
        }
      ]
    },
    {
      "metadata": {
        "id": "dFH3klNrsOwg",
        "colab_type": "code",
        "colab": {
          "autoexec": {
            "startup": false,
            "wait_interval": 0
          }
        }
      },
      "cell_type": "code",
      "source": [
        "#  conv_base.trainable = False"
      ],
      "execution_count": 0,
      "outputs": []
    },
    {
      "metadata": {
        "id": "fbmpWbTwLlUZ",
        "colab_type": "code",
        "colab": {
          "autoexec": {
            "startup": false,
            "wait_interval": 0
          }
        }
      },
      "cell_type": "code",
      "source": [
        "conv_base.trainable = True\n",
        "set_trainable = False\n",
        "for layer in conv_base.layers:\n",
        "  if layer.name == 'block5_conv1':\n",
        "    set_trainable = True\n",
        "  if set_trainable:\n",
        "    layer.trainable = True\n",
        "  else:\n",
        "    layer.trainable = False"
      ],
      "execution_count": 0,
      "outputs": []
    },
    {
      "metadata": {
        "id": "4o2cxEOMs-sQ",
        "colab_type": "code",
        "colab": {
          "autoexec": {
            "startup": false,
            "wait_interval": 0
          }
        }
      },
      "cell_type": "code",
      "source": [
        "model = models.Sequential()\n",
        "model.add(conv_base)\n",
        "model.add(layers.Flatten())\n",
        "model.add(Dropout(0.5))\n",
        "model.add(layers.Dense(512, activation='relu'))\n",
        "model.add(Dropout(0.5))\n",
        "model.add(layers.Dense(15, activation='softmax'))"
      ],
      "execution_count": 0,
      "outputs": []
    },
    {
      "metadata": {
        "id": "6_jRtiSMtPrZ",
        "colab_type": "code",
        "colab": {
          "autoexec": {
            "startup": false,
            "wait_interval": 0
          },
          "base_uri": "https://localhost:8080/",
          "height": 340
        },
        "outputId": "2c124d9f-b44d-49b0-b8d0-ca1909ee2d4d",
        "executionInfo": {
          "status": "ok",
          "timestamp": 1524369584845,
          "user_tz": -330,
          "elapsed": 1098,
          "user": {
            "displayName": "Mayank Kumar Jha",
            "photoUrl": "//lh4.googleusercontent.com/-rU8C7qpFbC0/AAAAAAAAAAI/AAAAAAAAApI/tPTkODEOVxI/s50-c-k-no/photo.jpg",
            "userId": "114858840825635846618"
          }
        }
      },
      "cell_type": "code",
      "source": [
        "model.summary()"
      ],
      "execution_count": 18,
      "outputs": [
        {
          "output_type": "stream",
          "text": [
            "_________________________________________________________________\n",
            "Layer (type)                 Output Shape              Param #   \n",
            "=================================================================\n",
            "vgg16 (Model)                (None, 3, 3, 512)         14714688  \n",
            "_________________________________________________________________\n",
            "flatten_1 (Flatten)          (None, 4608)              0         \n",
            "_________________________________________________________________\n",
            "dropout_1 (Dropout)          (None, 4608)              0         \n",
            "_________________________________________________________________\n",
            "dense_1 (Dense)              (None, 512)               2359808   \n",
            "_________________________________________________________________\n",
            "dropout_2 (Dropout)          (None, 512)               0         \n",
            "_________________________________________________________________\n",
            "dense_2 (Dense)              (None, 15)                7695      \n",
            "=================================================================\n",
            "Total params: 17,082,191\n",
            "Trainable params: 9,446,927\n",
            "Non-trainable params: 7,635,264\n",
            "_________________________________________________________________\n"
          ],
          "name": "stdout"
        }
      ]
    },
    {
      "metadata": {
        "id": "59XkW7KotRak",
        "colab_type": "code",
        "colab": {
          "autoexec": {
            "startup": false,
            "wait_interval": 0
          }
        }
      },
      "cell_type": "code",
      "source": [
        "model.compile(loss='categorical_crossentropy',optimizer=optimizers.RMSprop(lr=1e-5),\n",
        "              metrics=['acc'])"
      ],
      "execution_count": 0,
      "outputs": []
    },
    {
      "metadata": {
        "id": "TXxPZBN5uOr7",
        "colab_type": "code",
        "colab": {
          "autoexec": {
            "startup": false,
            "wait_interval": 0
          },
          "base_uri": "https://localhost:8080/",
          "height": 34
        },
        "outputId": "276006f6-95e7-411f-f474-14ae7f125356",
        "executionInfo": {
          "status": "ok",
          "timestamp": 1524369637893,
          "user_tz": -330,
          "elapsed": 42614,
          "user": {
            "displayName": "Mayank Kumar Jha",
            "photoUrl": "//lh4.googleusercontent.com/-rU8C7qpFbC0/AAAAAAAAAAI/AAAAAAAAApI/tPTkODEOVxI/s50-c-k-no/photo.jpg",
            "userId": "114858840825635846618"
          }
        }
      },
      "cell_type": "code",
      "source": [
        "x_train, y_train = [], []\n",
        "for i in os.listdir('../dataset/train'):\n",
        "  for j in os.listdir('../dataset/train/'+i):\n",
        "    x_train.append(cv.resize(cv.imread('../dataset/train/'+i+'/'+j),(100,100)))\n",
        "    y_train.append(int(i))\n",
        "    \n",
        "x_train, y_train = np.array(x_train),np.array(y_train)\n",
        "x_train.shape,y_train.shape"
      ],
      "execution_count": 20,
      "outputs": [
        {
          "output_type": "execute_result",
          "data": {
            "text/plain": [
              "((56039, 100, 100, 3), (56039,))"
            ]
          },
          "metadata": {
            "tags": []
          },
          "execution_count": 20
        }
      ]
    },
    {
      "metadata": {
        "id": "ad0meNuR1RGY",
        "colab_type": "code",
        "colab": {
          "autoexec": {
            "startup": false,
            "wait_interval": 0
          },
          "base_uri": "https://localhost:8080/",
          "height": 34
        },
        "outputId": "e42f609c-04c2-496a-8352-9063f9d69f97",
        "executionInfo": {
          "status": "ok",
          "timestamp": 1524369643708,
          "user_tz": -330,
          "elapsed": 5621,
          "user": {
            "displayName": "Mayank Kumar Jha",
            "photoUrl": "//lh4.googleusercontent.com/-rU8C7qpFbC0/AAAAAAAAAAI/AAAAAAAAApI/tPTkODEOVxI/s50-c-k-no/photo.jpg",
            "userId": "114858840825635846618"
          }
        }
      },
      "cell_type": "code",
      "source": [
        "x_test, y_test = [], []\n",
        "for i in os.listdir('../dataset/Validation'):\n",
        "  for j in os.listdir('../dataset/Validation/'+i):\n",
        "    x_test.append(cv.resize(cv.imread('../dataset/Validation/'+i+'/'+j),(100,100)))\n",
        "    y_test.append(int(i))\n",
        "    \n",
        "x_test, y_test = np.array(x_test),np.array(y_test)\n",
        "x_test.shape,y_test.shape"
      ],
      "execution_count": 21,
      "outputs": [
        {
          "output_type": "execute_result",
          "data": {
            "text/plain": [
              "((6219, 100, 100, 3), (6219,))"
            ]
          },
          "metadata": {
            "tags": []
          },
          "execution_count": 21
        }
      ]
    },
    {
      "metadata": {
        "id": "AnR-o6kH1Vks",
        "colab_type": "code",
        "colab": {
          "autoexec": {
            "startup": false,
            "wait_interval": 0
          },
          "base_uri": "https://localhost:8080/",
          "height": 34
        },
        "outputId": "1ca1c5cf-1cd7-4a17-9df2-70e8529ddf3f",
        "executionInfo": {
          "status": "ok",
          "timestamp": 1524369660895,
          "user_tz": -330,
          "elapsed": 17102,
          "user": {
            "displayName": "Mayank Kumar Jha",
            "photoUrl": "//lh4.googleusercontent.com/-rU8C7qpFbC0/AAAAAAAAAAI/AAAAAAAAApI/tPTkODEOVxI/s50-c-k-no/photo.jpg",
            "userId": "114858840825635846618"
          }
        }
      },
      "cell_type": "code",
      "source": [
        "test = np.array([cv.resize(cv.imread('../dataset/test/'+i),(100,100)) for i in os.listdir('../dataset/test')])\n",
        "\n",
        "test.shape"
      ],
      "execution_count": 22,
      "outputs": [
        {
          "output_type": "execute_result",
          "data": {
            "text/plain": [
              "(21273, 100, 100, 3)"
            ]
          },
          "metadata": {
            "tags": []
          },
          "execution_count": 22
        }
      ]
    },
    {
      "metadata": {
        "id": "j-ec9rms1ZNH",
        "colab_type": "code",
        "colab": {
          "autoexec": {
            "startup": false,
            "wait_interval": 0
          },
          "base_uri": "https://localhost:8080/",
          "height": 34
        },
        "outputId": "45bf11ae-379a-4fbd-c8e3-650fc984e8f6",
        "executionInfo": {
          "status": "ok",
          "timestamp": 1524369662176,
          "user_tz": -330,
          "elapsed": 1171,
          "user": {
            "displayName": "Mayank Kumar Jha",
            "photoUrl": "//lh4.googleusercontent.com/-rU8C7qpFbC0/AAAAAAAAAAI/AAAAAAAAApI/tPTkODEOVxI/s50-c-k-no/photo.jpg",
            "userId": "114858840825635846618"
          }
        }
      },
      "cell_type": "code",
      "source": [
        "gc.collect()\n",
        "# del x_train,y_train,x_test,y_test"
      ],
      "execution_count": 23,
      "outputs": [
        {
          "output_type": "execute_result",
          "data": {
            "text/plain": [
              "3889"
            ]
          },
          "metadata": {
            "tags": []
          },
          "execution_count": 23
        }
      ]
    },
    {
      "metadata": {
        "id": "yk2UDsmp1bXX",
        "colab_type": "code",
        "colab": {
          "autoexec": {
            "startup": false,
            "wait_interval": 0
          }
        }
      },
      "cell_type": "code",
      "source": [
        "x_train = x_train.reshape(52925, 100, 100, 3)\n",
        "x_test = x_test.reshape(9333, 100, 100, 3)\n",
        "test = test.reshape(21273, 100, 100, 3)"
      ],
      "execution_count": 0,
      "outputs": []
    },
    {
      "metadata": {
        "id": "s-kssVWy1jVe",
        "colab_type": "code",
        "colab": {
          "autoexec": {
            "startup": false,
            "wait_interval": 0
          }
        }
      },
      "cell_type": "code",
      "source": [
        "from keras.utils import to_categorical,normalize\n",
        "\n",
        "train_labels = to_categorical(y_train)\n",
        "validation_labels = to_categorical(y_test)"
      ],
      "execution_count": 0,
      "outputs": []
    },
    {
      "metadata": {
        "id": "tdyx3a2p1l3W",
        "colab_type": "code",
        "colab": {
          "autoexec": {
            "startup": false,
            "wait_interval": 0
          },
          "base_uri": "https://localhost:8080/",
          "height": 34
        },
        "outputId": "b7941def-f777-40b5-b977-fc0dcb0c6290",
        "executionInfo": {
          "status": "ok",
          "timestamp": 1524369673373,
          "user_tz": -330,
          "elapsed": 1372,
          "user": {
            "displayName": "Mayank Kumar Jha",
            "photoUrl": "//lh4.googleusercontent.com/-rU8C7qpFbC0/AAAAAAAAAAI/AAAAAAAAApI/tPTkODEOVxI/s50-c-k-no/photo.jpg",
            "userId": "114858840825635846618"
          }
        }
      },
      "cell_type": "code",
      "source": [
        "gc.collect()"
      ],
      "execution_count": 25,
      "outputs": [
        {
          "output_type": "execute_result",
          "data": {
            "text/plain": [
              "0"
            ]
          },
          "metadata": {
            "tags": []
          },
          "execution_count": 25
        }
      ]
    },
    {
      "metadata": {
        "id": "FaAG6VJa1rmq",
        "colab_type": "code",
        "colab": {
          "autoexec": {
            "startup": false,
            "wait_interval": 0
          },
          "base_uri": "https://localhost:8080/",
          "height": 411
        },
        "outputId": "f1744fe4-5d34-4e8a-fa4a-d41f6df2ea2d",
        "executionInfo": {
          "status": "ok",
          "timestamp": 1524381506213,
          "user_tz": -330,
          "elapsed": 1575471,
          "user": {
            "displayName": "Mayank Kumar Jha",
            "photoUrl": "//lh4.googleusercontent.com/-rU8C7qpFbC0/AAAAAAAAAAI/AAAAAAAAApI/tPTkODEOVxI/s50-c-k-no/photo.jpg",
            "userId": "114858840825635846618"
          }
        }
      },
      "cell_type": "code",
      "source": [
        "model.fit(x_train, train_labels, epochs=10, batch_size=512,validation_data=(x_test, validation_labels))"
      ],
      "execution_count": 36,
      "outputs": [
        {
          "output_type": "stream",
          "text": [
            "Train on 56039 samples, validate on 6219 samples\n",
            "Epoch 1/10\n",
            "56039/56039 [==============================] - 158s 3ms/step - loss: 1.2312 - acc: 0.5567 - val_loss: 1.9100 - val_acc: 0.4554\n",
            "Epoch 2/10\n",
            "56039/56039 [==============================] - 157s 3ms/step - loss: 1.2119 - acc: 0.5649 - val_loss: 1.8465 - val_acc: 0.4522\n",
            "Epoch 3/10\n",
            "56039/56039 [==============================] - 157s 3ms/step - loss: 1.2047 - acc: 0.5651 - val_loss: 1.8806 - val_acc: 0.4570\n",
            "Epoch 4/10\n",
            " 4608/56039 [=>............................] - ETA: 2:11 - loss: 1.1682 - acc: 0.5775"
          ],
          "name": "stdout"
        },
        {
          "output_type": "stream",
          "text": [
            "56039/56039 [==============================] - 157s 3ms/step - loss: 1.1941 - acc: 0.5678 - val_loss: 1.8645 - val_acc: 0.4546\n",
            "Epoch 5/10\n",
            "56039/56039 [==============================] - 157s 3ms/step - loss: 1.1812 - acc: 0.5716 - val_loss: 1.8684 - val_acc: 0.4554\n",
            "Epoch 6/10\n",
            "56039/56039 [==============================] - 157s 3ms/step - loss: 1.1757 - acc: 0.5734 - val_loss: 1.9091 - val_acc: 0.4605\n",
            "Epoch 7/10\n",
            "26624/56039 [=============>................] - ETA: 1:15 - loss: 1.1581 - acc: 0.5776"
          ],
          "name": "stdout"
        },
        {
          "output_type": "stream",
          "text": [
            "56039/56039 [==============================] - 157s 3ms/step - loss: 1.1609 - acc: 0.5779 - val_loss: 1.9159 - val_acc: 0.4570\n",
            "Epoch 8/10\n",
            "56039/56039 [==============================] - 157s 3ms/step - loss: 1.1466 - acc: 0.5825 - val_loss: 1.9643 - val_acc: 0.4584\n",
            "Epoch 9/10\n",
            "56039/56039 [==============================] - 157s 3ms/step - loss: 1.1363 - acc: 0.5854 - val_loss: 1.9308 - val_acc: 0.4607\n",
            "Epoch 10/10\n",
            "30208/56039 [===============>..............] - ETA: 1:05 - loss: 1.1372 - acc: 0.5855"
          ],
          "name": "stdout"
        },
        {
          "output_type": "stream",
          "text": [
            "56039/56039 [==============================] - 157s 3ms/step - loss: 1.1281 - acc: 0.5881 - val_loss: 1.9492 - val_acc: 0.4594\n"
          ],
          "name": "stdout"
        },
        {
          "output_type": "execute_result",
          "data": {
            "text/plain": [
              "<keras.callbacks.History at 0x7efd93646128>"
            ]
          },
          "metadata": {
            "tags": []
          },
          "execution_count": 36
        }
      ]
    },
    {
      "metadata": {
        "id": "ez748L_Atw0q",
        "colab_type": "code",
        "colab": {
          "autoexec": {
            "startup": false,
            "wait_interval": 0
          }
        }
      },
      "cell_type": "code",
      "source": [
        "model.save('../dataset/CNN_3.h5')"
      ],
      "execution_count": 0,
      "outputs": []
    },
    {
      "metadata": {
        "id": "fxYngDOLMes4",
        "colab_type": "code",
        "colab": {
          "autoexec": {
            "startup": false,
            "wait_interval": 0
          },
          "base_uri": "https://localhost:8080/",
          "height": 102
        },
        "outputId": "b4a864f6-f209-47f2-c941-c55b61747f91"
      },
      "cell_type": "code",
      "source": [
        "model.fit(x_train, train_labels, epochs=50, batch_size=512,validation_data=(x_test, validation_labels))"
      ],
      "execution_count": 0,
      "outputs": [
        {
          "output_type": "stream",
          "text": [
            "Train on 56039 samples, validate on 6219 samples\n",
            "Epoch 1/50\n",
            "56039/56039 [==============================] - 158s 3ms/step - loss: 0.9324 - acc: 0.6515 - val_loss: 2.2392 - val_acc: 0.4657\n",
            "Epoch 2/50\n",
            " 1536/56039 [..............................] - ETA: 2:19 - loss: 0.9846 - acc: 0.6270"
          ],
          "name": "stdout"
        }
      ]
    },
    {
      "metadata": {
        "id": "xEagRXeIs9IX",
        "colab_type": "code",
        "colab": {
          "autoexec": {
            "startup": false,
            "wait_interval": 0
          },
          "base_uri": "https://localhost:8080/",
          "height": 34
        },
        "outputId": "207554fa-b01b-4b2f-e8fc-f97f0d41bdf1",
        "executionInfo": {
          "status": "ok",
          "timestamp": 1524384670193,
          "user_tz": -330,
          "elapsed": 1115,
          "user": {
            "displayName": "Mayank Kumar Jha",
            "photoUrl": "//lh4.googleusercontent.com/-rU8C7qpFbC0/AAAAAAAAAAI/AAAAAAAAApI/tPTkODEOVxI/s50-c-k-no/photo.jpg",
            "userId": "114858840825635846618"
          }
        }
      },
      "cell_type": "code",
      "source": [
        "gc.collect()"
      ],
      "execution_count": 39,
      "outputs": [
        {
          "output_type": "execute_result",
          "data": {
            "text/plain": [
              "319"
            ]
          },
          "metadata": {
            "tags": []
          },
          "execution_count": 39
        }
      ]
    },
    {
      "metadata": {
        "id": "IfBEZWqqs9BM",
        "colab_type": "code",
        "colab": {
          "autoexec": {
            "startup": false,
            "wait_interval": 0
          }
        }
      },
      "cell_type": "code",
      "source": [
        "sub = pd.DataFrame()\n",
        "sub['image_name'] = [i for i in os.listdir('../dataset/test')]"
      ],
      "execution_count": 0,
      "outputs": []
    },
    {
      "metadata": {
        "id": "iZamdpq4s8-l",
        "colab_type": "code",
        "colab": {
          "autoexec": {
            "startup": false,
            "wait_interval": 0
          },
          "base_uri": "https://localhost:8080/",
          "height": 204
        },
        "outputId": "ed791a3c-f6bf-49eb-b307-a02e9628c641",
        "executionInfo": {
          "status": "ok",
          "timestamp": 1524384674494,
          "user_tz": -330,
          "elapsed": 1370,
          "user": {
            "displayName": "Mayank Kumar Jha",
            "photoUrl": "//lh4.googleusercontent.com/-rU8C7qpFbC0/AAAAAAAAAAI/AAAAAAAAApI/tPTkODEOVxI/s50-c-k-no/photo.jpg",
            "userId": "114858840825635846618"
          }
        }
      },
      "cell_type": "code",
      "source": [
        "sub.head()"
      ],
      "execution_count": 41,
      "outputs": [
        {
          "output_type": "execute_result",
          "data": {
            "text/html": [
              "<div>\n",
              "<style scoped>\n",
              "    .dataframe tbody tr th:only-of-type {\n",
              "        vertical-align: middle;\n",
              "    }\n",
              "\n",
              "    .dataframe tbody tr th {\n",
              "        vertical-align: top;\n",
              "    }\n",
              "\n",
              "    .dataframe thead th {\n",
              "        text-align: right;\n",
              "    }\n",
              "</style>\n",
              "<table border=\"1\" class=\"dataframe\">\n",
              "  <thead>\n",
              "    <tr style=\"text-align: right;\">\n",
              "      <th></th>\n",
              "      <th>image_name</th>\n",
              "    </tr>\n",
              "  </thead>\n",
              "  <tbody>\n",
              "    <tr>\n",
              "      <th>0</th>\n",
              "      <td>n03404251_4832_1.jpg</td>\n",
              "    </tr>\n",
              "    <tr>\n",
              "      <th>1</th>\n",
              "      <td>n03228254_5787_0.jpg</td>\n",
              "    </tr>\n",
              "    <tr>\n",
              "      <th>2</th>\n",
              "      <td>n04602956_2854_0.jpg</td>\n",
              "    </tr>\n",
              "    <tr>\n",
              "      <th>3</th>\n",
              "      <td>n03467254_1056_0.jpg</td>\n",
              "    </tr>\n",
              "    <tr>\n",
              "      <th>4</th>\n",
              "      <td>n04355511_1909_0.jpg</td>\n",
              "    </tr>\n",
              "  </tbody>\n",
              "</table>\n",
              "</div>"
            ],
            "text/plain": [
              "             image_name\n",
              "0  n03404251_4832_1.jpg\n",
              "1  n03228254_5787_0.jpg\n",
              "2  n04602956_2854_0.jpg\n",
              "3  n03467254_1056_0.jpg\n",
              "4  n04355511_1909_0.jpg"
            ]
          },
          "metadata": {
            "tags": []
          },
          "execution_count": 41
        }
      ]
    },
    {
      "metadata": {
        "id": "TJOanAtWs87t",
        "colab_type": "code",
        "colab": {
          "autoexec": {
            "startup": false,
            "wait_interval": 0
          }
        }
      },
      "cell_type": "code",
      "source": [
        "sub['category'] = model.predict_classes(test)"
      ],
      "execution_count": 0,
      "outputs": []
    },
    {
      "metadata": {
        "id": "PSmDWHaMs85N",
        "colab_type": "code",
        "colab": {
          "autoexec": {
            "startup": false,
            "wait_interval": 0
          }
        }
      },
      "cell_type": "code",
      "source": [
        "sub.to_csv('../dataset/submission_pre_vgg_3.csv',index=False)"
      ],
      "execution_count": 0,
      "outputs": []
    },
    {
      "metadata": {
        "id": "6bhPRYjHs82y",
        "colab_type": "code",
        "colab": {
          "autoexec": {
            "startup": false,
            "wait_interval": 0
          }
        }
      },
      "cell_type": "code",
      "source": [
        "from google.colab import files\n",
        "files.download('../dataset/submission_pre_vgg_3.csv')"
      ],
      "execution_count": 0,
      "outputs": []
    },
    {
      "metadata": {
        "id": "WhebRtW6s80n",
        "colab_type": "code",
        "colab": {
          "autoexec": {
            "startup": false,
            "wait_interval": 0
          }
        }
      },
      "cell_type": "code",
      "source": [
        ""
      ],
      "execution_count": 0,
      "outputs": []
    },
    {
      "metadata": {
        "id": "zmAzBMFss8xq",
        "colab_type": "code",
        "colab": {
          "autoexec": {
            "startup": false,
            "wait_interval": 0
          }
        }
      },
      "cell_type": "code",
      "source": [
        ""
      ],
      "execution_count": 0,
      "outputs": []
    },
    {
      "metadata": {
        "id": "H9php9ics8vb",
        "colab_type": "code",
        "colab": {
          "autoexec": {
            "startup": false,
            "wait_interval": 0
          }
        }
      },
      "cell_type": "code",
      "source": [
        ""
      ],
      "execution_count": 0,
      "outputs": []
    },
    {
      "metadata": {
        "id": "3I-w3p5Zs8qr",
        "colab_type": "code",
        "colab": {
          "autoexec": {
            "startup": false,
            "wait_interval": 0
          }
        }
      },
      "cell_type": "code",
      "source": [
        ""
      ],
      "execution_count": 0,
      "outputs": []
    },
    {
      "metadata": {
        "id": "YhvJudQIs8ou",
        "colab_type": "code",
        "colab": {
          "autoexec": {
            "startup": false,
            "wait_interval": 0
          }
        }
      },
      "cell_type": "code",
      "source": [
        ""
      ],
      "execution_count": 0,
      "outputs": []
    },
    {
      "metadata": {
        "id": "S1SK9jzms8lW",
        "colab_type": "code",
        "colab": {
          "autoexec": {
            "startup": false,
            "wait_interval": 0
          }
        }
      },
      "cell_type": "code",
      "source": [
        ""
      ],
      "execution_count": 0,
      "outputs": []
    },
    {
      "metadata": {
        "id": "-RyAkWnBs9Dk",
        "colab_type": "code",
        "colab": {
          "autoexec": {
            "startup": false,
            "wait_interval": 0
          },
          "base_uri": "https://localhost:8080/",
          "height": 129
        },
        "outputId": "92f3ec9d-fba5-4134-ffc1-1247cc633a25",
        "executionInfo": {
          "status": "error",
          "timestamp": 1524350725182,
          "user_tz": -330,
          "elapsed": 1021,
          "user": {
            "displayName": "Mayank Kumar Jha",
            "photoUrl": "//lh4.googleusercontent.com/-rU8C7qpFbC0/AAAAAAAAAAI/AAAAAAAAApI/tPTkODEOVxI/s50-c-k-no/photo.jpg",
            "userId": "114858840825635846618"
          }
        }
      },
      "cell_type": "code",
      "source": [
        "# *********************************************************************************************************************************************************\n",
        "#\t\t\t\t\t\t\t\t\t\t\t\t\t\t\tImage Augmentation\n",
        "# *********************************************************************************************************************************************************\n",
        "from keras.preprocessing import image\n",
        "\n",
        "# set limit_1 and limit_2 such that augmentation will take place only when no of image will be less than limit_x\n",
        "\n",
        "def augment_big_data_image(src = '', dest = '', limit_1 = 0, no_of_aug_1 = 0, limit_2 = 0, no_of_aug_2 = 0):\n",
        "  print('Before augmentation : ')  \n",
        "  for i in os.listdir(src):\n",
        "    print(i,'  -  ',len([j for j in os.listdir(src+'/'+i)]))\n",
        "    \t\n",
        "\t# data generator\n",
        "  datagen = ImageDataGenerator(rotation_range=40, width_shift_range=0.2, height_shift_range=0.2, \n",
        "                               shear_range=0.2, zoom_range=0.2, horizontal_flip=True, fill_mode='nearest')\n",
        "\t\n",
        "\tfor jk in os.listdir(src):\n",
        "    print('Augmenting ',jk)\n",
        "    if len([i for i in os.listdir(src+'/'+jk)]) < limit_1:\n",
        "      for i in os.listdir(src+'/'+jk):\n",
        "        img = cv.resize(cv.imread(src+'/'+jk+'/'+i))\n",
        "  \n",
        "  \n",
        "  \n",
        "  for jk in os.listdir(src):\n",
        "    print('Augmenting ',jk)\n",
        "    if len([i for i in os.listdir(src+'/'+jk)]) <limit_1:\n",
        "      for i in os.listdir(src+'/'+jk):\n",
        "        img = cv.resize(cv.imread(src+'/'+jk+'/'+i,cv.IMREAD_GRAYSCALE),(150,150))\n",
        "\t\t\t\tcntr = 0\n",
        "\t\t\t\tfor batch in datagen.flow(img.reshape(1,150,150,1), batch_size=1):\n",
        "          cv.imwrite(dest+'/'+jk+'/'+str(cntr)+i,batch[0].reshape(150,150))\n",
        "\t\t\t\t\tcntr+=1\n",
        "\t\t\t\t\tif cntr>no_of_aug_1:\n",
        "\t\t\t\t\t\tbreak\n",
        "\t\telif  len([i for i in os.listdir(src+'/'+jk)]) < limit_2 :\n",
        "\t\t\tfor i in os.listdir(src+'/'+jk):\n",
        "\t\t\t\timg = cv.resize(cv.imread(src+'/'+jk+'/'+i,cv.IMREAD_GRAYSCALE),(150,150))\n",
        "\t\t\t  cntr = 0\n",
        "\t\t\t\tfor batch in datagen.flow(img.reshape(1,150,150,1), batch_size=1):\n",
        "\t\t\t\t\tcv.imwrite(dest+'/'+jk+'/'+str(cntr)+i,batch[0].reshape(150,150))\n",
        "\t\t\t\t\tcntr+=1\n",
        "\t\t\t\t\tif cntr>no_of_aug_2:\n",
        "\t\t\t\t\t\tbreak\n",
        "\t\t\t\t\t\t\n",
        "\t# move data to src location\n",
        "\tfor i in os.listdir(dest):\n",
        "\t\tif len([j for j in os.listdir(dest+'/'+i)]) >0:\n",
        "\t\t\tfor k in os.listdir(dest+'/'+i):\n",
        "\t\t\t\tshutil.move(dest+'/'+i+'/'+k,src+'/'+i+'/'+k)\n",
        "\t\t\t\t\n",
        "\tprint('After augmentation : ')\n",
        "\tfor i in os.listdir(src):\n",
        "\t\tprint(i,' -  ',len([j for j in os.listdir(src+'/'+i)]))"
      ],
      "execution_count": 26,
      "outputs": [
        {
          "output_type": "error",
          "ename": "TabError",
          "evalue": "ignored",
          "traceback": [
            "\u001b[0;36m  File \u001b[0;32m\"<ipython-input-26-6b19e7142ae6>\"\u001b[0;36m, line \u001b[0;32m14\u001b[0m\n\u001b[0;31m    for jk in os.listdir(src):\u001b[0m\n\u001b[0m                              ^\u001b[0m\n\u001b[0;31mTabError\u001b[0m\u001b[0;31m:\u001b[0m inconsistent use of tabs and spaces in indentation\n"
          ]
        }
      ]
    },
    {
      "metadata": {
        "id": "AbWMFqcHs8iz",
        "colab_type": "code",
        "colab": {
          "autoexec": {
            "startup": false,
            "wait_interval": 0
          }
        }
      },
      "cell_type": "code",
      "source": [
        ""
      ],
      "execution_count": 0,
      "outputs": []
    },
    {
      "metadata": {
        "id": "oNNE0gdAs8fT",
        "colab_type": "code",
        "colab": {
          "autoexec": {
            "startup": false,
            "wait_interval": 0
          }
        }
      },
      "cell_type": "code",
      "source": [
        ""
      ],
      "execution_count": 0,
      "outputs": []
    },
    {
      "metadata": {
        "id": "I7-vMZLys8ct",
        "colab_type": "code",
        "colab": {
          "autoexec": {
            "startup": false,
            "wait_interval": 0
          }
        }
      },
      "cell_type": "code",
      "source": [
        ""
      ],
      "execution_count": 0,
      "outputs": []
    },
    {
      "metadata": {
        "id": "kh9V4bWRs8aT",
        "colab_type": "code",
        "colab": {
          "autoexec": {
            "startup": false,
            "wait_interval": 0
          }
        }
      },
      "cell_type": "code",
      "source": [
        ""
      ],
      "execution_count": 0,
      "outputs": []
    },
    {
      "metadata": {
        "id": "Ckd9anv3s8YE",
        "colab_type": "code",
        "colab": {
          "autoexec": {
            "startup": false,
            "wait_interval": 0
          }
        }
      },
      "cell_type": "code",
      "source": [
        ""
      ],
      "execution_count": 0,
      "outputs": []
    },
    {
      "metadata": {
        "id": "BkjMcwpjs8Vk",
        "colab_type": "code",
        "colab": {
          "autoexec": {
            "startup": false,
            "wait_interval": 0
          }
        }
      },
      "cell_type": "code",
      "source": [
        ""
      ],
      "execution_count": 0,
      "outputs": []
    },
    {
      "metadata": {
        "id": "6HNYgGWrnoW2",
        "colab_type": "code",
        "colab": {
          "autoexec": {
            "startup": false,
            "wait_interval": 0
          },
          "base_uri": "https://localhost:8080/",
          "height": 221
        },
        "outputId": "d5c70eb7-3bf7-4593-f6b0-a452672e6c3e",
        "executionInfo": {
          "status": "ok",
          "timestamp": 1524339089669,
          "user_tz": -330,
          "elapsed": 7499,
          "user": {
            "displayName": "Mayank Kumar Jha",
            "photoUrl": "//lh4.googleusercontent.com/-rU8C7qpFbC0/AAAAAAAAAAI/AAAAAAAAApI/tPTkODEOVxI/s50-c-k-no/photo.jpg",
            "userId": "114858840825635846618"
          }
        }
      },
      "cell_type": "code",
      "source": [
        "# memory footprint support libraries/code\n",
        "!ln -sf /opt/bin/nvidia-smi /usr/bin/nvidia-smi\n",
        "!pip install gputil\n",
        "!pip install psutil\n",
        "!pip install humanize\n",
        "import psutil\n",
        "import humanize\n",
        "import os\n",
        "import GPUtil as GPU\n",
        "GPUs = GPU.getGPUs()\n",
        "# XXX: only one GPU on Colab and isn’t guaranteed\n",
        "gpu = GPUs[0]\n",
        "def printm():\n",
        "  process = psutil.Process(os.getpid())\n",
        "  print(\"Gen RAM Free: \" + humanize.naturalsize( psutil.virtual_memory().available ), \" I Proc size: \" + humanize.naturalsize( process.memory_info().rss))\n",
        "  print(\"GPU RAM Free: {0:.0f}MB | Used: {1:.0f}MB | Util {2:3.0f}% | Total {3:.0f}MB\".format(gpu.memoryFree, gpu.memoryUsed, gpu.memoryUtil*100, gpu.memoryTotal))\n",
        "printm()"
      ],
      "execution_count": 14,
      "outputs": [
        {
          "output_type": "stream",
          "text": [
            "Requirement already satisfied: gputil in /usr/local/lib/python3.6/dist-packages\r\n",
            "Requirement already satisfied: numpy in /usr/local/lib/python3.6/dist-packages (from gputil)\n",
            "\u001b[33mYou are using pip version 9.0.3, however version 10.0.1 is available.\n",
            "You should consider upgrading via the 'pip install --upgrade pip' command.\u001b[0m\n",
            "Requirement already satisfied: psutil in /usr/local/lib/python3.6/dist-packages\n",
            "\u001b[33mYou are using pip version 9.0.3, however version 10.0.1 is available.\n",
            "You should consider upgrading via the 'pip install --upgrade pip' command.\u001b[0m\n",
            "Requirement already satisfied: humanize in /usr/local/lib/python3.6/dist-packages\n",
            "\u001b[33mYou are using pip version 9.0.3, however version 10.0.1 is available.\n",
            "You should consider upgrading via the 'pip install --upgrade pip' command.\u001b[0m\n",
            "Gen RAM Free: 10.4 GB  I Proc size: 2.4 GB\n",
            "GPU RAM Free: 564MB | Used: 10875MB | Util  95% | Total 11439MB\n"
          ],
          "name": "stdout"
        }
      ]
    },
    {
      "metadata": {
        "id": "V4jQ8CLVnocG",
        "colab_type": "code",
        "colab": {
          "autoexec": {
            "startup": false,
            "wait_interval": 0
          }
        }
      },
      "cell_type": "code",
      "source": [
        ""
      ],
      "execution_count": 0,
      "outputs": []
    },
    {
      "metadata": {
        "id": "1RQ8J417nofB",
        "colab_type": "code",
        "colab": {
          "autoexec": {
            "startup": false,
            "wait_interval": 0
          }
        }
      },
      "cell_type": "code",
      "source": [
        ""
      ],
      "execution_count": 0,
      "outputs": []
    },
    {
      "metadata": {
        "id": "QeWz2efVnohw",
        "colab_type": "code",
        "colab": {
          "autoexec": {
            "startup": false,
            "wait_interval": 0
          }
        }
      },
      "cell_type": "code",
      "source": [
        ""
      ],
      "execution_count": 0,
      "outputs": []
    },
    {
      "metadata": {
        "id": "vCPWDkzYnonf",
        "colab_type": "code",
        "colab": {
          "autoexec": {
            "startup": false,
            "wait_interval": 0
          }
        }
      },
      "cell_type": "code",
      "source": [
        ""
      ],
      "execution_count": 0,
      "outputs": []
    },
    {
      "metadata": {
        "id": "njLQMsc9noq7",
        "colab_type": "code",
        "colab": {
          "autoexec": {
            "startup": false,
            "wait_interval": 0
          }
        }
      },
      "cell_type": "code",
      "source": [
        ""
      ],
      "execution_count": 0,
      "outputs": []
    },
    {
      "metadata": {
        "id": "lIUE-5vbnov4",
        "colab_type": "code",
        "colab": {
          "autoexec": {
            "startup": false,
            "wait_interval": 0
          }
        }
      },
      "cell_type": "code",
      "source": [
        ""
      ],
      "execution_count": 0,
      "outputs": []
    },
    {
      "metadata": {
        "id": "CX8oDo2bno_0",
        "colab_type": "code",
        "colab": {
          "autoexec": {
            "startup": false,
            "wait_interval": 0
          }
        }
      },
      "cell_type": "code",
      "source": [
        ""
      ],
      "execution_count": 0,
      "outputs": []
    },
    {
      "metadata": {
        "id": "gAFKLqiKnpFr",
        "colab_type": "code",
        "colab": {
          "autoexec": {
            "startup": false,
            "wait_interval": 0
          }
        }
      },
      "cell_type": "code",
      "source": [
        ""
      ],
      "execution_count": 0,
      "outputs": []
    },
    {
      "metadata": {
        "id": "L2kgtrtvnpOq",
        "colab_type": "code",
        "colab": {
          "autoexec": {
            "startup": false,
            "wait_interval": 0
          }
        }
      },
      "cell_type": "code",
      "source": [
        ""
      ],
      "execution_count": 0,
      "outputs": []
    },
    {
      "metadata": {
        "id": "PpDmO_GMnpTh",
        "colab_type": "code",
        "colab": {
          "autoexec": {
            "startup": false,
            "wait_interval": 0
          }
        }
      },
      "cell_type": "code",
      "source": [
        ""
      ],
      "execution_count": 0,
      "outputs": []
    },
    {
      "metadata": {
        "id": "a4vtf2_inpbh",
        "colab_type": "code",
        "colab": {
          "autoexec": {
            "startup": false,
            "wait_interval": 0
          }
        }
      },
      "cell_type": "code",
      "source": [
        ""
      ],
      "execution_count": 0,
      "outputs": []
    },
    {
      "metadata": {
        "id": "SzEQLWa8npjE",
        "colab_type": "code",
        "colab": {
          "autoexec": {
            "startup": false,
            "wait_interval": 0
          }
        }
      },
      "cell_type": "code",
      "source": [
        ""
      ],
      "execution_count": 0,
      "outputs": []
    },
    {
      "metadata": {
        "id": "HGXSUXZenpqy",
        "colab_type": "code",
        "colab": {
          "autoexec": {
            "startup": false,
            "wait_interval": 0
          }
        }
      },
      "cell_type": "code",
      "source": [
        ""
      ],
      "execution_count": 0,
      "outputs": []
    },
    {
      "metadata": {
        "id": "2Lysr8BXnpu3",
        "colab_type": "code",
        "colab": {
          "autoexec": {
            "startup": false,
            "wait_interval": 0
          }
        }
      },
      "cell_type": "code",
      "source": [
        ""
      ],
      "execution_count": 0,
      "outputs": []
    },
    {
      "metadata": {
        "id": "YJLbBuUpnpog",
        "colab_type": "code",
        "colab": {
          "autoexec": {
            "startup": false,
            "wait_interval": 0
          }
        }
      },
      "cell_type": "code",
      "source": [
        ""
      ],
      "execution_count": 0,
      "outputs": []
    },
    {
      "metadata": {
        "id": "CS3QeOUCnpmt",
        "colab_type": "code",
        "colab": {
          "autoexec": {
            "startup": false,
            "wait_interval": 0
          }
        }
      },
      "cell_type": "code",
      "source": [
        ""
      ],
      "execution_count": 0,
      "outputs": []
    },
    {
      "metadata": {
        "id": "oNqeSuVZnpg1",
        "colab_type": "code",
        "colab": {
          "autoexec": {
            "startup": false,
            "wait_interval": 0
          }
        }
      },
      "cell_type": "code",
      "source": [
        ""
      ],
      "execution_count": 0,
      "outputs": []
    },
    {
      "metadata": {
        "id": "pnK2-w_Cnpe0",
        "colab_type": "code",
        "colab": {
          "autoexec": {
            "startup": false,
            "wait_interval": 0
          }
        }
      },
      "cell_type": "code",
      "source": [
        ""
      ],
      "execution_count": 0,
      "outputs": []
    },
    {
      "metadata": {
        "id": "ynHNylcZnpZZ",
        "colab_type": "code",
        "colab": {
          "autoexec": {
            "startup": false,
            "wait_interval": 0
          }
        }
      },
      "cell_type": "code",
      "source": [
        ""
      ],
      "execution_count": 0,
      "outputs": []
    },
    {
      "metadata": {
        "id": "LxR6fjMSnpWs",
        "colab_type": "code",
        "colab": {
          "autoexec": {
            "startup": false,
            "wait_interval": 0
          }
        }
      },
      "cell_type": "code",
      "source": [
        ""
      ],
      "execution_count": 0,
      "outputs": []
    },
    {
      "metadata": {
        "id": "ILS93SiHnpRs",
        "colab_type": "code",
        "colab": {
          "autoexec": {
            "startup": false,
            "wait_interval": 0
          }
        }
      },
      "cell_type": "code",
      "source": [
        ""
      ],
      "execution_count": 0,
      "outputs": []
    },
    {
      "metadata": {
        "id": "hdYesHPtnpLi",
        "colab_type": "code",
        "colab": {
          "autoexec": {
            "startup": false,
            "wait_interval": 0
          }
        }
      },
      "cell_type": "code",
      "source": [
        ""
      ],
      "execution_count": 0,
      "outputs": []
    },
    {
      "metadata": {
        "id": "Tkrf4KIynpJQ",
        "colab_type": "code",
        "colab": {
          "autoexec": {
            "startup": false,
            "wait_interval": 0
          }
        }
      },
      "cell_type": "code",
      "source": [
        ""
      ],
      "execution_count": 0,
      "outputs": []
    },
    {
      "metadata": {
        "id": "irx4OgtKnpDY",
        "colab_type": "code",
        "colab": {
          "autoexec": {
            "startup": false,
            "wait_interval": 0
          }
        }
      },
      "cell_type": "code",
      "source": [
        ""
      ],
      "execution_count": 0,
      "outputs": []
    },
    {
      "metadata": {
        "id": "Cx1bM3Y1no9_",
        "colab_type": "code",
        "colab": {
          "autoexec": {
            "startup": false,
            "wait_interval": 0
          }
        }
      },
      "cell_type": "code",
      "source": [
        ""
      ],
      "execution_count": 0,
      "outputs": []
    },
    {
      "metadata": {
        "id": "fz2q-0F-no6r",
        "colab_type": "code",
        "colab": {
          "autoexec": {
            "startup": false,
            "wait_interval": 0
          }
        }
      },
      "cell_type": "code",
      "source": [
        ""
      ],
      "execution_count": 0,
      "outputs": []
    },
    {
      "metadata": {
        "id": "KAMtzBIYno4U",
        "colab_type": "code",
        "colab": {
          "autoexec": {
            "startup": false,
            "wait_interval": 0
          }
        }
      },
      "cell_type": "code",
      "source": [
        ""
      ],
      "execution_count": 0,
      "outputs": []
    },
    {
      "metadata": {
        "id": "aX6X9imJno1d",
        "colab_type": "code",
        "colab": {
          "autoexec": {
            "startup": false,
            "wait_interval": 0
          }
        }
      },
      "cell_type": "code",
      "source": [
        ""
      ],
      "execution_count": 0,
      "outputs": []
    },
    {
      "metadata": {
        "id": "btw19_BmnozA",
        "colab_type": "code",
        "colab": {
          "autoexec": {
            "startup": false,
            "wait_interval": 0
          }
        }
      },
      "cell_type": "code",
      "source": [
        ""
      ],
      "execution_count": 0,
      "outputs": []
    },
    {
      "metadata": {
        "id": "YcFJSSLpnotr",
        "colab_type": "code",
        "colab": {
          "autoexec": {
            "startup": false,
            "wait_interval": 0
          }
        }
      },
      "cell_type": "code",
      "source": [
        ""
      ],
      "execution_count": 0,
      "outputs": []
    },
    {
      "metadata": {
        "id": "fGcA3pkknolV",
        "colab_type": "code",
        "colab": {
          "autoexec": {
            "startup": false,
            "wait_interval": 0
          }
        }
      },
      "cell_type": "code",
      "source": [
        ""
      ],
      "execution_count": 0,
      "outputs": []
    },
    {
      "metadata": {
        "id": "mxPQzBnZnoZ3",
        "colab_type": "code",
        "colab": {
          "autoexec": {
            "startup": false,
            "wait_interval": 0
          }
        }
      },
      "cell_type": "code",
      "source": [
        ""
      ],
      "execution_count": 0,
      "outputs": []
    }
  ]
}