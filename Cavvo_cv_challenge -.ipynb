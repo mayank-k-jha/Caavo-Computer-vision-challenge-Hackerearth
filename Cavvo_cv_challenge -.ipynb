{
 "cells": [
  {
   "cell_type": "code",
   "execution_count": 0,
   "metadata": {
    "colab": {
     "autoexec": {
      "startup": false,
      "wait_interval": 0
     }
    },
    "colab_type": "code",
    "collapsed": true,
    "id": "xrmWZlBNMHp9"
   },
   "outputs": [],
   "source": [
    "import pandas as pd\n",
    "import numpy as np\n",
    "import matplotlib.pyplot as plt\n",
    "import gc\n",
    "import seaborn as sns\n",
    "import matplotlib.pyplot as plt"
   ]
  },
  {
   "cell_type": "code",
   "execution_count": 0,
   "metadata": {
    "colab": {
     "autoexec": {
      "startup": false,
      "wait_interval": 0
     }
    },
    "colab_type": "code",
    "collapsed": true,
    "id": "0cvHvIwnfeKR"
   },
   "outputs": [],
   "source": [
    "import tensorflow as tf"
   ]
  },
  {
   "cell_type": "code",
   "execution_count": 135,
   "metadata": {
    "colab": {
     "autoexec": {
      "startup": false,
      "wait_interval": 0
     },
     "base_uri": "https://localhost:8080/",
     "height": 34
    },
    "colab_type": "code",
    "executionInfo": {
     "elapsed": 1276,
     "status": "ok",
     "timestamp": 1524218226325,
     "user": {
      "displayName": "Mayank Kumar Jha",
      "photoUrl": "//lh4.googleusercontent.com/-rU8C7qpFbC0/AAAAAAAAAAI/AAAAAAAAApI/tPTkODEOVxI/s50-c-k-no/photo.jpg",
      "userId": "114858840825635846618"
     },
     "user_tz": -330
    },
    "id": "Ui4Fekd9F7fd",
    "outputId": "3d12b3de-8509-42d9-8c87-56fbe407a897"
   },
   "outputs": [
    {
     "data": {
      "text/plain": [
       "'/device:GPU:0'"
      ]
     },
     "execution_count": 135,
     "metadata": {
      "tags": []
     },
     "output_type": "execute_result"
    }
   ],
   "source": [
    "tf.test.gpu_device_name()"
   ]
  },
  {
   "cell_type": "code",
   "execution_count": 0,
   "metadata": {
    "colab": {
     "autoexec": {
      "startup": false,
      "wait_interval": 0
     }
    },
    "colab_type": "code",
    "collapsed": true,
    "id": "cIJPwpSdWI-l"
   },
   "outputs": [],
   "source": [
    "from keras.applications import VGG16"
   ]
  },
  {
   "cell_type": "code",
   "execution_count": 0,
   "metadata": {
    "colab": {
     "autoexec": {
      "startup": false,
      "wait_interval": 0
     }
    },
    "colab_type": "code",
    "collapsed": true,
    "id": "GYYCo6pvGXak"
   },
   "outputs": [],
   "source": [
    "clf = VGG16(weights='imagenet',include_top=False,input_shape=(100, 100, 3))"
   ]
  },
  {
   "cell_type": "code",
   "execution_count": 138,
   "metadata": {
    "colab": {
     "autoexec": {
      "startup": false,
      "wait_interval": 0
     },
     "base_uri": "https://localhost:8080/",
     "height": 782
    },
    "colab_type": "code",
    "executionInfo": {
     "elapsed": 3453,
     "status": "ok",
     "timestamp": 1524218236884,
     "user": {
      "displayName": "Mayank Kumar Jha",
      "photoUrl": "//lh4.googleusercontent.com/-rU8C7qpFbC0/AAAAAAAAAAI/AAAAAAAAApI/tPTkODEOVxI/s50-c-k-no/photo.jpg",
      "userId": "114858840825635846618"
     },
     "user_tz": -330
    },
    "id": "6ornib_YG4yC",
    "outputId": "a51fb872-c93c-414b-e4f7-603642d22344"
   },
   "outputs": [
    {
     "name": "stdout",
     "output_type": "stream",
     "text": [
      "_________________________________________________________________\n",
      "Layer (type)                 Output Shape              Param #   \n",
      "=================================================================\n",
      "input_3 (InputLayer)         (None, 100, 100, 3)       0         \n",
      "_________________________________________________________________\n",
      "block1_conv1 (Conv2D)        (None, 100, 100, 64)      1792      \n",
      "_________________________________________________________________\n",
      "block1_conv2 (Conv2D)        (None, 100, 100, 64)      36928     \n",
      "_________________________________________________________________\n",
      "block1_pool (MaxPooling2D)   (None, 50, 50, 64)        0         \n",
      "_________________________________________________________________\n",
      "block2_conv1 (Conv2D)        (None, 50, 50, 128)       73856     \n",
      "_________________________________________________________________\n",
      "block2_conv2 (Conv2D)        (None, 50, 50, 128)       147584    \n",
      "_________________________________________________________________\n",
      "block2_pool (MaxPooling2D)   (None, 25, 25, 128)       0         \n",
      "_________________________________________________________________\n",
      "block3_conv1 (Conv2D)        (None, 25, 25, 256)       295168    \n",
      "_________________________________________________________________\n",
      "block3_conv2 (Conv2D)        (None, 25, 25, 256)       590080    \n",
      "_________________________________________________________________\n",
      "block3_conv3 (Conv2D)        (None, 25, 25, 256)       590080    \n",
      "_________________________________________________________________\n",
      "block3_pool (MaxPooling2D)   (None, 12, 12, 256)       0         \n",
      "_________________________________________________________________\n",
      "block4_conv1 (Conv2D)        (None, 12, 12, 512)       1180160   \n",
      "_________________________________________________________________\n",
      "block4_conv2 (Conv2D)        (None, 12, 12, 512)       2359808   \n",
      "_________________________________________________________________\n",
      "block4_conv3 (Conv2D)        (None, 12, 12, 512)       2359808   \n",
      "_________________________________________________________________\n",
      "block4_pool (MaxPooling2D)   (None, 6, 6, 512)         0         \n",
      "_________________________________________________________________\n",
      "block5_conv1 (Conv2D)        (None, 6, 6, 512)         2359808   \n",
      "_________________________________________________________________\n",
      "block5_conv2 (Conv2D)        (None, 6, 6, 512)         2359808   \n",
      "_________________________________________________________________\n",
      "block5_conv3 (Conv2D)        (None, 6, 6, 512)         2359808   \n",
      "_________________________________________________________________\n",
      "block5_pool (MaxPooling2D)   (None, 3, 3, 512)         0         \n",
      "=================================================================\n",
      "Total params: 14,714,688\n",
      "Trainable params: 14,714,688\n",
      "Non-trainable params: 0\n",
      "_________________________________________________________________\n"
     ]
    }
   ],
   "source": [
    "clf.summary()"
   ]
  },
  {
   "cell_type": "code",
   "execution_count": 0,
   "metadata": {
    "colab": {
     "autoexec": {
      "startup": false,
      "wait_interval": 0
     }
    },
    "colab_type": "code",
    "collapsed": true,
    "id": "6XCtYD1iG0oC"
   },
   "outputs": [],
   "source": [
    "import cv2 as cv"
   ]
  },
  {
   "cell_type": "code",
   "execution_count": 0,
   "metadata": {
    "colab": {
     "autoexec": {
      "startup": false,
      "wait_interval": 0
     }
    },
    "colab_type": "code",
    "collapsed": true,
    "id": "Nil-NjkdHgZ_"
   },
   "outputs": [],
   "source": [
    "import os,shutil"
   ]
  },
  {
   "cell_type": "code",
   "execution_count": 145,
   "metadata": {
    "colab": {
     "autoexec": {
      "startup": false,
      "wait_interval": 0
     },
     "base_uri": "https://localhost:8080/",
     "height": 102
    },
    "colab_type": "code",
    "executionInfo": {
     "elapsed": 1234,
     "status": "ok",
     "timestamp": 1524218297625,
     "user": {
      "displayName": "Mayank Kumar Jha",
      "photoUrl": "//lh4.googleusercontent.com/-rU8C7qpFbC0/AAAAAAAAAAI/AAAAAAAAApI/tPTkODEOVxI/s50-c-k-no/photo.jpg",
      "userId": "114858840825635846618"
     },
     "user_tz": -330
    },
    "id": "s-wCxgUeIOMd",
    "outputId": "81ea41c7-4220-402d-fec9-5a7f0c420c19"
   },
   "outputs": [
    {
     "name": "stdout",
     "output_type": "stream",
     "text": [
      "train\n",
      "sample_submissioin.csv\n",
      "CNN_VGG.h5\n",
      "Validation\n",
      "test\n"
     ]
    }
   ],
   "source": [
    "for i in os.listdir('../dataset'):\n",
    "  print(i)"
   ]
  },
  {
   "cell_type": "code",
   "execution_count": 24,
   "metadata": {
    "colab": {
     "autoexec": {
      "startup": false,
      "wait_interval": 0
     },
     "base_uri": "https://localhost:8080/",
     "height": 272
    },
    "colab_type": "code",
    "executionInfo": {
     "elapsed": 1008,
     "status": "ok",
     "timestamp": 1524212270450,
     "user": {
      "displayName": "Mayank Kumar Jha",
      "photoUrl": "//lh4.googleusercontent.com/-rU8C7qpFbC0/AAAAAAAAAAI/AAAAAAAAApI/tPTkODEOVxI/s50-c-k-no/photo.jpg",
      "userId": "114858840825635846618"
     },
     "user_tz": -330
    },
    "id": "wd9DCao8ISvM",
    "outputId": "7b256d27-4201-4f1c-f694-6919e8471493"
   },
   "outputs": [
    {
     "name": "stdout",
     "output_type": "stream",
     "text": [
      "3752\n",
      "1248\n",
      "8203\n",
      "2935\n",
      "656\n",
      "5301\n",
      "6186\n",
      "784\n",
      "1248\n",
      "4848\n",
      "7936\n",
      "5083\n",
      "8835\n",
      "4560\n",
      "683\n"
     ]
    }
   ],
   "source": [
    "for i in os.listdir('../dataset/train'):\n",
    "  print(len([j for j in os.listdir('../dataset/train/'+i)]))"
   ]
  },
  {
   "cell_type": "code",
   "execution_count": 0,
   "metadata": {
    "colab": {
     "autoexec": {
      "startup": false,
      "wait_interval": 0
     }
    },
    "colab_type": "code",
    "collapsed": true,
    "id": "JT99V2DgIYDw"
   },
   "outputs": [],
   "source": [
    "for i in range(15):\n",
    "  os.mkdir('../dataset/Validation/'+str(i))"
   ]
  },
  {
   "cell_type": "code",
   "execution_count": 26,
   "metadata": {
    "colab": {
     "autoexec": {
      "startup": false,
      "wait_interval": 0
     },
     "base_uri": "https://localhost:8080/",
     "height": 272
    },
    "colab_type": "code",
    "executionInfo": {
     "elapsed": 1207,
     "status": "ok",
     "timestamp": 1524212312158,
     "user": {
      "displayName": "Mayank Kumar Jha",
      "photoUrl": "//lh4.googleusercontent.com/-rU8C7qpFbC0/AAAAAAAAAAI/AAAAAAAAApI/tPTkODEOVxI/s50-c-k-no/photo.jpg",
      "userId": "114858840825635846618"
     },
     "user_tz": -330
    },
    "id": "cOJTLpphIc7p",
    "outputId": "8fe23a30-c61c-4eb5-9f9f-5e0dabb43e07"
   },
   "outputs": [
    {
     "name": "stdout",
     "output_type": "stream",
     "text": [
      "8\n",
      "7\n",
      "3\n",
      "13\n",
      "14\n",
      "9\n",
      "1\n",
      "0\n",
      "11\n",
      "12\n",
      "2\n",
      "6\n",
      "4\n",
      "10\n",
      "5\n"
     ]
    }
   ],
   "source": [
    "for i in os.listdir('../dataset/train/'):\n",
    "  all_files = [j for j in os.listdir('../dataset/train/'+i)]\n",
    "  print(i)\n",
    "  for j in range(int(len(all_files)*.15)):\n",
    "    src,dst = '../dataset/train/'+i+'/'+all_files[j],'../dataset/Validation/'+i+'/'+all_files[j]\n",
    "    shutil.move(src,dst)\n",
    "  \n",
    "    "
   ]
  },
  {
   "cell_type": "code",
   "execution_count": 27,
   "metadata": {
    "colab": {
     "autoexec": {
      "startup": false,
      "wait_interval": 0
     },
     "base_uri": "https://localhost:8080/",
     "height": 272
    },
    "colab_type": "code",
    "executionInfo": {
     "elapsed": 2044,
     "status": "ok",
     "timestamp": 1524212327515,
     "user": {
      "displayName": "Mayank Kumar Jha",
      "photoUrl": "//lh4.googleusercontent.com/-rU8C7qpFbC0/AAAAAAAAAAI/AAAAAAAAApI/tPTkODEOVxI/s50-c-k-no/photo.jpg",
      "userId": "114858840825635846618"
     },
     "user_tz": -330
    },
    "id": "MpcbIE3rIiMI",
    "outputId": "db7eb99a-d50f-441a-f677-30ca0cd4cb74"
   },
   "outputs": [
    {
     "name": "stdout",
     "output_type": "stream",
     "text": [
      "667   -   117\n",
      "5259   -   927\n",
      "6746   -   1190\n",
      "6973   -   1230\n",
      "7510   -   1325\n",
      "581   -   102\n",
      "4321   -   762\n",
      "1061   -   187\n",
      "3190   -   562\n",
      "4506   -   795\n",
      "3876   -   684\n",
      "1061   -   187\n",
      "4121   -   727\n",
      "2495   -   440\n",
      "558   -   98\n"
     ]
    }
   ],
   "source": [
    "for i in range(15):\n",
    "  print(len([j for j in os.listdir('../dataset/train/'+str(i))]),'  -  ',len([j for j in os.listdir('../dataset/Validation/'+str(i))]))"
   ]
  },
  {
   "cell_type": "code",
   "execution_count": 0,
   "metadata": {
    "colab": {
     "autoexec": {
      "startup": false,
      "wait_interval": 0
     }
    },
    "colab_type": "code",
    "collapsed": true,
    "id": "k8sUSme2IlvB"
   },
   "outputs": [],
   "source": [
    "train_dir = '../dataset/train'\n",
    "validation_dir = '../dataset/Validation'"
   ]
  },
  {
   "cell_type": "code",
   "execution_count": 0,
   "metadata": {
    "colab": {
     "autoexec": {
      "startup": false,
      "wait_interval": 0
     }
    },
    "colab_type": "code",
    "collapsed": true,
    "id": "2WNhXunyJCVe"
   },
   "outputs": [],
   "source": [
    "resize_size = (100,100)\n",
    "def resize(image):\n",
    "  return cv.resize(image,resize_size)"
   ]
  },
  {
   "cell_type": "code",
   "execution_count": 0,
   "metadata": {
    "colab": {
     "autoexec": {
      "startup": false,
      "wait_interval": 0
     }
    },
    "colab_type": "code",
    "collapsed": true,
    "id": "bRsFPTXhJGY_"
   },
   "outputs": [],
   "source": [
    "def normalize(image):\n",
    "  return image/255"
   ]
  },
  {
   "cell_type": "code",
   "execution_count": 0,
   "metadata": {
    "colab": {
     "autoexec": {
      "startup": false,
      "wait_interval": 0
     }
    },
    "colab_type": "code",
    "collapsed": true,
    "id": "vbya6WhrJuUU"
   },
   "outputs": [],
   "source": [
    "import pandas as pd\n",
    "import numpy as np\n",
    "from keras import models,layers\n",
    "import os,shutil\n",
    "from keras.preprocessing.image import ImageDataGenerator "
   ]
  },
  {
   "cell_type": "code",
   "execution_count": 0,
   "metadata": {
    "colab": {
     "autoexec": {
      "startup": false,
      "wait_interval": 0
     }
    },
    "colab_type": "code",
    "collapsed": true,
    "id": "E9_hk4JlJJRi"
   },
   "outputs": [],
   "source": [
    "train_datagen = ImageDataGenerator(rescale=1./255,\n",
    "                                   featurewise_center=False,  # set input mean to 0 over the dataset\n",
    "                                    samplewise_center=False,  # set each sample mean to 0\n",
    "                                    featurewise_std_normalization=False,  # divide inputs by std of the dataset\n",
    "                                    samplewise_std_normalization=False,  # divide each input by its std\n",
    "                                    zca_whitening=False,  # apply ZCA whitening\n",
    "                                    rotation_range=10,  # randomly rotate images in the range (degrees, 0 to 180)\n",
    "                                    zoom_range = 0.1, # Randomly zoom image \n",
    "                                    width_shift_range=0.1,  # randomly shift images horizontally (fraction of total width)\n",
    "                                    height_shift_range=0.1,  # randomly shift images vertically (fraction of total height)\n",
    "                                    horizontal_flip=False,  # randomly flip images\n",
    "                                    vertical_flip=False)\n",
    "val_datagen = ImageDataGenerator(rescale=1./255)"
   ]
  },
  {
   "cell_type": "code",
   "execution_count": 68,
   "metadata": {
    "colab": {
     "autoexec": {
      "startup": false,
      "wait_interval": 0
     },
     "base_uri": "https://localhost:8080/",
     "height": 34
    },
    "colab_type": "code",
    "executionInfo": {
     "elapsed": 6110,
     "status": "ok",
     "timestamp": 1524213642687,
     "user": {
      "displayName": "Mayank Kumar Jha",
      "photoUrl": "//lh4.googleusercontent.com/-rU8C7qpFbC0/AAAAAAAAAAI/AAAAAAAAApI/tPTkODEOVxI/s50-c-k-no/photo.jpg",
      "userId": "114858840825635846618"
     },
     "user_tz": -330
    },
    "id": "9T-qaEi_Jqoj",
    "outputId": "5837c964-6538-432a-8259-6680ed363c34"
   },
   "outputs": [
    {
     "name": "stdout",
     "output_type": "stream",
     "text": [
      "Found 52925 images belonging to 15 classes.\n"
     ]
    }
   ],
   "source": [
    "train_generator = train_datagen.flow_from_directory(\n",
    "    train_dir,target_size=(100, 100),batch_size=270,\n",
    "    class_mode='categorical')"
   ]
  },
  {
   "cell_type": "code",
   "execution_count": 69,
   "metadata": {
    "colab": {
     "autoexec": {
      "startup": false,
      "wait_interval": 0
     },
     "base_uri": "https://localhost:8080/",
     "height": 34
    },
    "colab_type": "code",
    "executionInfo": {
     "elapsed": 2609,
     "status": "ok",
     "timestamp": 1524213645335,
     "user": {
      "displayName": "Mayank Kumar Jha",
      "photoUrl": "//lh4.googleusercontent.com/-rU8C7qpFbC0/AAAAAAAAAAI/AAAAAAAAApI/tPTkODEOVxI/s50-c-k-no/photo.jpg",
      "userId": "114858840825635846618"
     },
     "user_tz": -330
    },
    "id": "KFDIQCSZJCo-",
    "outputId": "74c1eecf-d685-4f32-bfb1-e6445258f85e"
   },
   "outputs": [
    {
     "name": "stdout",
     "output_type": "stream",
     "text": [
      "Found 9333 images belonging to 15 classes.\n"
     ]
    }
   ],
   "source": [
    "val_generator = val_datagen.flow_from_directory(\n",
    "    validation_dir,target_size=(100, 100),batch_size=30,\n",
    "    class_mode='categorical')"
   ]
  },
  {
   "cell_type": "code",
   "execution_count": 70,
   "metadata": {
    "colab": {
     "autoexec": {
      "startup": false,
      "wait_interval": 0
     },
     "base_uri": "https://localhost:8080/",
     "height": 527
    },
    "colab_type": "code",
    "executionInfo": {
     "elapsed": 1322,
     "status": "ok",
     "timestamp": 1524213646843,
     "user": {
      "displayName": "Mayank Kumar Jha",
      "photoUrl": "//lh4.googleusercontent.com/-rU8C7qpFbC0/AAAAAAAAAAI/AAAAAAAAApI/tPTkODEOVxI/s50-c-k-no/photo.jpg",
      "userId": "114858840825635846618"
     },
     "user_tz": -330
    },
    "id": "ESLY1zLMJCtP",
    "outputId": "c3afbb09-45fd-409c-8dd5-023d42f6dac7"
   },
   "outputs": [
    {
     "data": {
      "text/plain": [
       "({'0': 0,\n",
       "  '1': 1,\n",
       "  '10': 2,\n",
       "  '11': 3,\n",
       "  '12': 4,\n",
       "  '13': 5,\n",
       "  '14': 6,\n",
       "  '2': 7,\n",
       "  '3': 8,\n",
       "  '4': 9,\n",
       "  '5': 10,\n",
       "  '6': 11,\n",
       "  '7': 12,\n",
       "  '8': 13,\n",
       "  '9': 14},\n",
       " {'0': 0,\n",
       "  '1': 1,\n",
       "  '10': 2,\n",
       "  '11': 3,\n",
       "  '12': 4,\n",
       "  '13': 5,\n",
       "  '14': 6,\n",
       "  '2': 7,\n",
       "  '3': 8,\n",
       "  '4': 9,\n",
       "  '5': 10,\n",
       "  '6': 11,\n",
       "  '7': 12,\n",
       "  '8': 13,\n",
       "  '9': 14})"
      ]
     },
     "execution_count": 70,
     "metadata": {
      "tags": []
     },
     "output_type": "execute_result"
    }
   ],
   "source": [
    "train_generator.class_indices,val_generator.class_indices"
   ]
  },
  {
   "cell_type": "code",
   "execution_count": 0,
   "metadata": {
    "colab": {
     "autoexec": {
      "startup": false,
      "wait_interval": 0
     }
    },
    "colab_type": "code",
    "collapsed": true,
    "id": "qra5G0LgJ7a5"
   },
   "outputs": [],
   "source": [
    "from keras import optimizers,metrics"
   ]
  },
  {
   "cell_type": "code",
   "execution_count": 0,
   "metadata": {
    "colab": {
     "autoexec": {
      "startup": false,
      "wait_interval": 0
     }
    },
    "colab_type": "code",
    "collapsed": true,
    "id": "CbgajPvpKlHm"
   },
   "outputs": [],
   "source": [
    "model = models.Sequential()"
   ]
  },
  {
   "cell_type": "code",
   "execution_count": 0,
   "metadata": {
    "colab": {
     "autoexec": {
      "startup": false,
      "wait_interval": 0
     }
    },
    "colab_type": "code",
    "collapsed": true,
    "id": "MsMR1nSlKpM0"
   },
   "outputs": [],
   "source": [
    "model.add(clf)"
   ]
  },
  {
   "cell_type": "code",
   "execution_count": 0,
   "metadata": {
    "colab": {
     "autoexec": {
      "startup": false,
      "wait_interval": 0
     }
    },
    "colab_type": "code",
    "collapsed": true,
    "id": "FHy5YiP_KLnK"
   },
   "outputs": [],
   "source": [
    "model.add(layers.Flatten())\n",
    "model.add(layers.Dense(512, activation='relu'))\n",
    "model.add(layers.Dropout(0.4))\n",
    "model.add(layers.Dense(15, activation='softmax'))"
   ]
  },
  {
   "cell_type": "code",
   "execution_count": 151,
   "metadata": {
    "colab": {
     "autoexec": {
      "startup": false,
      "wait_interval": 0
     },
     "base_uri": "https://localhost:8080/",
     "height": 306
    },
    "colab_type": "code",
    "executionInfo": {
     "elapsed": 1431,
     "status": "ok",
     "timestamp": 1524218352722,
     "user": {
      "displayName": "Mayank Kumar Jha",
      "photoUrl": "//lh4.googleusercontent.com/-rU8C7qpFbC0/AAAAAAAAAAI/AAAAAAAAApI/tPTkODEOVxI/s50-c-k-no/photo.jpg",
      "userId": "114858840825635846618"
     },
     "user_tz": -330
    },
    "id": "JkBJanIuKx5-",
    "outputId": "80b1289c-77b5-4180-a573-02ff57721311"
   },
   "outputs": [
    {
     "name": "stdout",
     "output_type": "stream",
     "text": [
      "_________________________________________________________________\n",
      "Layer (type)                 Output Shape              Param #   \n",
      "=================================================================\n",
      "vgg16 (Model)                (None, 3, 3, 512)         14714688  \n",
      "_________________________________________________________________\n",
      "flatten_4 (Flatten)          (None, 4608)              0         \n",
      "_________________________________________________________________\n",
      "dense_7 (Dense)              (None, 512)               2359808   \n",
      "_________________________________________________________________\n",
      "dropout_4 (Dropout)          (None, 512)               0         \n",
      "_________________________________________________________________\n",
      "dense_8 (Dense)              (None, 15)                7695      \n",
      "=================================================================\n",
      "Total params: 17,082,191\n",
      "Trainable params: 17,082,191\n",
      "Non-trainable params: 0\n",
      "_________________________________________________________________\n"
     ]
    }
   ],
   "source": [
    "model.summary()"
   ]
  },
  {
   "cell_type": "code",
   "execution_count": 0,
   "metadata": {
    "colab": {
     "autoexec": {
      "startup": false,
      "wait_interval": 0
     }
    },
    "colab_type": "code",
    "collapsed": true,
    "id": "cE2cui5CKb1v"
   },
   "outputs": [],
   "source": [
    "model.trainable = True\n",
    "set_trainable = False\n",
    "for layer in model.layers:\n",
    "  if layer.name == 'block5_conv1':\n",
    "    set_trainable = True\n",
    "  if set_trainable:\n",
    "    layer.trainable = True\n",
    "  else:\n",
    "    layer.trainable = False"
   ]
  },
  {
   "cell_type": "code",
   "execution_count": 0,
   "metadata": {
    "colab": {
     "autoexec": {
      "startup": false,
      "wait_interval": 0
     }
    },
    "colab_type": "code",
    "collapsed": true,
    "id": "2ahBB3URJ_5T"
   },
   "outputs": [],
   "source": [
    "model.compile(loss='categorical_crossentropy',\n",
    "              optimizer=optimizers.RMSprop(),\n",
    "              metrics=['acc'])"
   ]
  },
  {
   "cell_type": "code",
   "execution_count": 85,
   "metadata": {
    "colab": {
     "autoexec": {
      "startup": false,
      "wait_interval": 0
     },
     "base_uri": "https://localhost:8080/",
     "height": 377
    },
    "colab_type": "code",
    "executionInfo": {
     "elapsed": 1082812,
     "status": "ok",
     "timestamp": 1524214980956,
     "user": {
      "displayName": "Mayank Kumar Jha",
      "photoUrl": "//lh4.googleusercontent.com/-rU8C7qpFbC0/AAAAAAAAAAI/AAAAAAAAApI/tPTkODEOVxI/s50-c-k-no/photo.jpg",
      "userId": "114858840825635846618"
     },
     "user_tz": -330
    },
    "id": "DeoWq1WTKB1T",
    "outputId": "221a7f0a-b20f-4ae0-c38e-79854f1c6baf"
   },
   "outputs": [
    {
     "name": "stdout",
     "output_type": "stream",
     "text": [
      "Epoch 1/10\n",
      "80/80 [==============================] - 118s 1s/step - loss: 2.5916 - acc: 0.2353 - val_loss: 2.1030 - val_acc: 0.2907\n",
      "Epoch 2/10\n",
      "80/80 [==============================] - 107s 1s/step - loss: 2.1045 - acc: 0.3006 - val_loss: 1.9892 - val_acc: 0.3365\n",
      "Epoch 3/10\n",
      "80/80 [==============================] - 106s 1s/step - loss: 2.0067 - acc: 0.3356 - val_loss: 1.8663 - val_acc: 0.3855\n",
      "Epoch 4/10\n",
      "80/80 [==============================] - 108s 1s/step - loss: 1.9696 - acc: 0.3458 - val_loss: 1.8322 - val_acc: 0.3997\n",
      "Epoch 5/10\n",
      "11/80 [===>..........................] - ETA: 37s - loss: 1.9448 - acc: 0.355680/80 [==============================] - 107s 1s/step - loss: 1.9307 - acc: 0.3578 - val_loss: 1.8598 - val_acc: 0.3903\n",
      "Epoch 6/10\n",
      "80/80 [==============================] - 107s 1s/step - loss: 1.9107 - acc: 0.3660 - val_loss: 1.8045 - val_acc: 0.4154\n",
      "Epoch 7/10\n",
      "80/80 [==============================] - 108s 1s/step - loss: 1.8690 - acc: 0.3745 - val_loss: 1.7421 - val_acc: 0.4264\n",
      "Epoch 8/10\n",
      "80/80 [==============================] - 107s 1s/step - loss: 1.8443 - acc: 0.3905 - val_loss: 1.7750 - val_acc: 0.4137\n",
      "Epoch 9/10\n",
      "19/80 [======>.......................] - ETA: 36s - loss: 1.8352 - acc: 0.396780/80 [==============================] - 106s 1s/step - loss: 1.8277 - acc: 0.3969 - val_loss: 1.7869 - val_acc: 0.4050\n",
      "Epoch 10/10\n",
      "80/80 [==============================] - 108s 1s/step - loss: 1.8458 - acc: 0.3886 - val_loss: 1.7314 - val_acc: 0.4319\n"
     ]
    }
   ],
   "source": [
    "history = model.fit_generator(train_generator,steps_per_epoch=80,epochs=10,\n",
    "                            validation_data=val_generator,validation_steps=363)"
   ]
  },
  {
   "cell_type": "code",
   "execution_count": 0,
   "metadata": {
    "colab": {
     "autoexec": {
      "startup": false,
      "wait_interval": 0
     }
    },
    "colab_type": "code",
    "collapsed": true,
    "id": "7G_IMRycJCmx"
   },
   "outputs": [],
   "source": [
    "# model.save('../dataset/CNN_VGG.h5')"
   ]
  },
  {
   "cell_type": "code",
   "execution_count": 0,
   "metadata": {
    "colab": {
     "autoexec": {
      "startup": false,
      "wait_interval": 0
     }
    },
    "colab_type": "code",
    "collapsed": true,
    "id": "v9qBlZyWJCkg"
   },
   "outputs": [],
   "source": [
    "# from google.colab import files\n",
    "# files.download('../dataset/CNN_VGG.h5')"
   ]
  },
  {
   "cell_type": "code",
   "execution_count": 0,
   "metadata": {
    "colab": {
     "autoexec": {
      "startup": false,
      "wait_interval": 0
     }
    },
    "colab_type": "code",
    "collapsed": true,
    "id": "ISc9lzuBIpN4"
   },
   "outputs": [],
   "source": [
    "# cv.imread('../dataset/train/0/n02854926_10038_0.jpg').shape"
   ]
  },
  {
   "cell_type": "code",
   "execution_count": 0,
   "metadata": {
    "colab": {
     "autoexec": {
      "startup": false,
      "wait_interval": 0
     }
    },
    "colab_type": "code",
    "collapsed": true,
    "id": "7sxIyvFLTyGZ"
   },
   "outputs": [],
   "source": [
    "import numpy as np"
   ]
  },
  {
   "cell_type": "code",
   "execution_count": 114,
   "metadata": {
    "colab": {
     "autoexec": {
      "startup": false,
      "wait_interval": 0
     },
     "base_uri": "https://localhost:8080/",
     "height": 272
    },
    "colab_type": "code",
    "executionInfo": {
     "elapsed": 2110,
     "status": "ok",
     "timestamp": 1524217114026,
     "user": {
      "displayName": "Mayank Kumar Jha",
      "photoUrl": "//lh4.googleusercontent.com/-rU8C7qpFbC0/AAAAAAAAAAI/AAAAAAAAApI/tPTkODEOVxI/s50-c-k-no/photo.jpg",
      "userId": "114858840825635846618"
     },
     "user_tz": -330
    },
    "id": "uhJkmrLkYS03",
    "outputId": "204a52b2-9e9a-4088-e338-90f02a419713"
   },
   "outputs": [
    {
     "name": "stdout",
     "output_type": "stream",
     "text": [
      "(100, 100, 3) 8\n",
      "(100, 100, 3) 7\n",
      "(100, 100, 3) 3\n",
      "(100, 100, 3) 13\n",
      "(100, 100, 3) 14\n",
      "(100, 100, 3) 9\n",
      "(100, 100, 3) 1\n",
      "(100, 100, 3) 0\n",
      "(100, 100, 3) 11\n",
      "(100, 100, 3) 12\n",
      "(100, 100, 3) 2\n",
      "(100, 100, 3) 6\n",
      "(100, 100, 3) 4\n",
      "(100, 100, 3) 10\n",
      "(100, 100, 3) 5\n"
     ]
    }
   ],
   "source": [
    "for j in os.listdir('../dataset/train/'):\n",
    "  for i in os.listdir('../dataset/train/'+j):\n",
    "    print(cv.resize(cv.imread('../dataset/train/'+j+'/'+i),(100,100)).shape,int(j))\n",
    "    break"
   ]
  },
  {
   "cell_type": "code",
   "execution_count": 0,
   "metadata": {
    "colab": {
     "autoexec": {
      "startup": false,
      "wait_interval": 0
     }
    },
    "colab_type": "code",
    "collapsed": true,
    "id": "Wi1jPEbEa2S9"
   },
   "outputs": [],
   "source": [
    "train = np.array([(cv.resize(cv.imread('../dataset/train/'+j+'/'+i),(100,100)) for i in os.listdir('../dataset/train/'+j)) for j in os.listdir('../dataset/train/')])"
   ]
  },
  {
   "cell_type": "code",
   "execution_count": 0,
   "metadata": {
    "colab": {
     "autoexec": {
      "startup": false,
      "wait_interval": 0
     }
    },
    "colab_type": "code",
    "collapsed": true,
    "id": "O8mX6orJbCt4"
   },
   "outputs": [],
   "source": [
    "x_train, y_train = [], []\n",
    "for i in os.listdir('../dataset/train'):\n",
    "  for j in os.listdir('../dataset/train/'+i):\n",
    "    x_train.append(cv.resize(cv.imread('../dataset/train/'+i+'/'+j),(100,100)))\n",
    "    y_train.append(int(i))"
   ]
  },
  {
   "cell_type": "code",
   "execution_count": 0,
   "metadata": {
    "colab": {
     "autoexec": {
      "startup": false,
      "wait_interval": 0
     }
    },
    "colab_type": "code",
    "collapsed": true,
    "id": "FfOXAxnfevle"
   },
   "outputs": [],
   "source": [
    "x_train, y_train = np.array(x_train),np.array(y_train)"
   ]
  },
  {
   "cell_type": "code",
   "execution_count": 153,
   "metadata": {
    "colab": {
     "autoexec": {
      "startup": false,
      "wait_interval": 0
     },
     "base_uri": "https://localhost:8080/",
     "height": 34
    },
    "colab_type": "code",
    "executionInfo": {
     "elapsed": 1273,
     "status": "ok",
     "timestamp": 1524218435010,
     "user": {
      "displayName": "Mayank Kumar Jha",
      "photoUrl": "//lh4.googleusercontent.com/-rU8C7qpFbC0/AAAAAAAAAAI/AAAAAAAAApI/tPTkODEOVxI/s50-c-k-no/photo.jpg",
      "userId": "114858840825635846618"
     },
     "user_tz": -330
    },
    "id": "dcH4pDD_eh4v",
    "outputId": "3f521108-3582-41f7-8276-80a11c93aaee"
   },
   "outputs": [
    {
     "data": {
      "text/plain": [
       "((52925, 100, 100, 3), (52925,))"
      ]
     },
     "execution_count": 153,
     "metadata": {
      "tags": []
     },
     "output_type": "execute_result"
    }
   ],
   "source": [
    "x_train.shape,y_train.shape"
   ]
  },
  {
   "cell_type": "code",
   "execution_count": 0,
   "metadata": {
    "colab": {
     "autoexec": {
      "startup": false,
      "wait_interval": 0
     }
    },
    "colab_type": "code",
    "collapsed": true,
    "id": "wxs3nWciT19Z"
   },
   "outputs": [],
   "source": [
    "test = np.array([cv.resize(cv.imread('../dataset/test/'+i),(100,100)) for i in os.listdir('../dataset/test')])"
   ]
  },
  {
   "cell_type": "code",
   "execution_count": 154,
   "metadata": {
    "colab": {
     "autoexec": {
      "startup": false,
      "wait_interval": 0
     },
     "base_uri": "https://localhost:8080/",
     "height": 34
    },
    "colab_type": "code",
    "executionInfo": {
     "elapsed": 1484,
     "status": "ok",
     "timestamp": 1524218438518,
     "user": {
      "displayName": "Mayank Kumar Jha",
      "photoUrl": "//lh4.googleusercontent.com/-rU8C7qpFbC0/AAAAAAAAAAI/AAAAAAAAApI/tPTkODEOVxI/s50-c-k-no/photo.jpg",
      "userId": "114858840825635846618"
     },
     "user_tz": -330
    },
    "id": "ilUghGbAVEYw",
    "outputId": "81287f0e-1bc3-43b6-d43f-46eb478dc0e8"
   },
   "outputs": [
    {
     "data": {
      "text/plain": [
       "(21273, 100, 100, 3)"
      ]
     },
     "execution_count": 154,
     "metadata": {
      "tags": []
     },
     "output_type": "execute_result"
    }
   ],
   "source": [
    "test.shape"
   ]
  },
  {
   "cell_type": "code",
   "execution_count": 0,
   "metadata": {
    "colab": {
     "autoexec": {
      "startup": false,
      "wait_interval": 0
     }
    },
    "colab_type": "code",
    "collapsed": true,
    "id": "fAG3tHZFTyLd"
   },
   "outputs": [],
   "source": [
    "result = model.predict_classes(test)"
   ]
  },
  {
   "cell_type": "code",
   "execution_count": 0,
   "metadata": {
    "colab": {
     "autoexec": {
      "startup": false,
      "wait_interval": 0
     }
    },
    "colab_type": "code",
    "collapsed": true,
    "id": "sY9cgC0kTyRT"
   },
   "outputs": [],
   "source": [
    "from collections import Counter"
   ]
  },
  {
   "cell_type": "code",
   "execution_count": 98,
   "metadata": {
    "colab": {
     "autoexec": {
      "startup": false,
      "wait_interval": 0
     },
     "base_uri": "https://localhost:8080/",
     "height": 255
    },
    "colab_type": "code",
    "executionInfo": {
     "elapsed": 1390,
     "status": "ok",
     "timestamp": 1524215774214,
     "user": {
      "displayName": "Mayank Kumar Jha",
      "photoUrl": "//lh4.googleusercontent.com/-rU8C7qpFbC0/AAAAAAAAAAI/AAAAAAAAApI/tPTkODEOVxI/s50-c-k-no/photo.jpg",
      "userId": "114858840825635846618"
     },
     "user_tz": -330
    },
    "id": "myEl1KS9TyU9",
    "outputId": "7acf9082-846f-4bc2-e132-6bc7abbe5d91"
   },
   "outputs": [
    {
     "data": {
      "text/plain": [
       "Counter({0: 3,\n",
       "         1: 715,\n",
       "         2: 625,\n",
       "         3: 361,\n",
       "         4: 1460,\n",
       "         5: 889,\n",
       "         7: 4288,\n",
       "         8: 6793,\n",
       "         9: 2486,\n",
       "         10: 118,\n",
       "         11: 935,\n",
       "         12: 71,\n",
       "         13: 487,\n",
       "         14: 2042})"
      ]
     },
     "execution_count": 98,
     "metadata": {
      "tags": []
     },
     "output_type": "execute_result"
    }
   ],
   "source": [
    "Counter(result)"
   ]
  },
  {
   "cell_type": "code",
   "execution_count": 0,
   "metadata": {
    "colab": {
     "autoexec": {
      "startup": false,
      "wait_interval": 0
     }
    },
    "colab_type": "code",
    "collapsed": true,
    "id": "Cii8fh-VTyZM"
   },
   "outputs": [],
   "source": [
    "def mapp(x):\n",
    "    if x == 10:\n",
    "        return 2\n",
    "    elif x==11:\n",
    "        return 3\n",
    "    elif x==12:\n",
    "        return 4\n",
    "    elif x==13:\n",
    "        return 5\n",
    "    elif x==14:\n",
    "        return 6\n",
    "    elif x==2:\n",
    "        return 7\n",
    "    elif x==3:\n",
    "        return 8\n",
    "    elif x==4:\n",
    "        return 9\n",
    "    elif x==5:\n",
    "        return 10\n",
    "    elif x==6:\n",
    "        return 11\n",
    "    elif x==7:\n",
    "        return 12\n",
    "    elif x==8:\n",
    "        return 13\n",
    "    elif x==9:\n",
    "        return 14\n",
    "    else:\n",
    "        return x\n",
    "    "
   ]
  },
  {
   "cell_type": "code",
   "execution_count": 0,
   "metadata": {
    "colab": {
     "autoexec": {
      "startup": false,
      "wait_interval": 0
     }
    },
    "colab_type": "code",
    "collapsed": true,
    "id": "Zc44QJd7WDgW"
   },
   "outputs": [],
   "source": [
    "y_pred = []\n",
    "for i in result:\n",
    "    y_pred.append(mapp(i))"
   ]
  },
  {
   "cell_type": "code",
   "execution_count": 101,
   "metadata": {
    "colab": {
     "autoexec": {
      "startup": false,
      "wait_interval": 0
     },
     "base_uri": "https://localhost:8080/",
     "height": 255
    },
    "colab_type": "code",
    "executionInfo": {
     "elapsed": 2541,
     "status": "ok",
     "timestamp": 1524215899326,
     "user": {
      "displayName": "Mayank Kumar Jha",
      "photoUrl": "//lh4.googleusercontent.com/-rU8C7qpFbC0/AAAAAAAAAAI/AAAAAAAAApI/tPTkODEOVxI/s50-c-k-no/photo.jpg",
      "userId": "114858840825635846618"
     },
     "user_tz": -330
    },
    "id": "nfEgJZOSWIi8",
    "outputId": "5f498d7c-dc68-4faf-b3b6-fb9553cd8844"
   },
   "outputs": [
    {
     "data": {
      "text/plain": [
       "Counter({0: 3,\n",
       "         1: 715,\n",
       "         2: 118,\n",
       "         3: 935,\n",
       "         4: 71,\n",
       "         5: 487,\n",
       "         6: 2042,\n",
       "         7: 625,\n",
       "         8: 361,\n",
       "         9: 1460,\n",
       "         10: 889,\n",
       "         12: 4288,\n",
       "         13: 6793,\n",
       "         14: 2486})"
      ]
     },
     "execution_count": 101,
     "metadata": {
      "tags": []
     },
     "output_type": "execute_result"
    }
   ],
   "source": [
    "Counter(y_pred)"
   ]
  },
  {
   "cell_type": "code",
   "execution_count": 102,
   "metadata": {
    "colab": {
     "autoexec": {
      "startup": false,
      "wait_interval": 0
     },
     "base_uri": "https://localhost:8080/",
     "height": 272
    },
    "colab_type": "code",
    "executionInfo": {
     "elapsed": 3151,
     "status": "ok",
     "timestamp": 1524215951810,
     "user": {
      "displayName": "Mayank Kumar Jha",
      "photoUrl": "//lh4.googleusercontent.com/-rU8C7qpFbC0/AAAAAAAAAAI/AAAAAAAAApI/tPTkODEOVxI/s50-c-k-no/photo.jpg",
      "userId": "114858840825635846618"
     },
     "user_tz": -330
    },
    "id": "Rupi-3hwTybh",
    "outputId": "98ebb5c2-440b-462a-c7a7-ab2b25d6908c"
   },
   "outputs": [
    {
     "name": "stdout",
     "output_type": "stream",
     "text": [
      "8    3190\n",
      "7    1061\n",
      "3    6973\n",
      "13    2495\n",
      "14    558\n",
      "9    4506\n",
      "1    5259\n",
      "0    667\n",
      "11    1061\n",
      "12    4121\n",
      "2    6746\n",
      "6    4321\n",
      "4    7510\n",
      "10    3876\n",
      "5    581\n"
     ]
    }
   ],
   "source": [
    "for i in os.listdir('../dataset/train'):\n",
    "  print(i,'  ',len([j for j in os.listdir('../dataset/train/'+i)]))"
   ]
  },
  {
   "cell_type": "code",
   "execution_count": 0,
   "metadata": {
    "colab": {
     "autoexec": {
      "startup": false,
      "wait_interval": 0
     }
    },
    "colab_type": "code",
    "collapsed": true,
    "id": "Porimr1pTyhM"
   },
   "outputs": [],
   "source": []
  },
  {
   "cell_type": "code",
   "execution_count": 0,
   "metadata": {
    "colab": {
     "autoexec": {
      "startup": false,
      "wait_interval": 0
     }
    },
    "colab_type": "code",
    "collapsed": true,
    "id": "cS7MZVCjTyl6"
   },
   "outputs": [],
   "source": []
  },
  {
   "cell_type": "code",
   "execution_count": 0,
   "metadata": {
    "colab": {
     "autoexec": {
      "startup": false,
      "wait_interval": 0
     }
    },
    "colab_type": "code",
    "collapsed": true,
    "id": "YnCr3XIKTyok"
   },
   "outputs": [],
   "source": []
  }
 ],
 "metadata": {
  "accelerator": "GPU",
  "colab": {
   "collapsed_sections": [],
   "default_view": {},
   "name": "Cavvo_cv_challenge.ipynb",
   "provenance": [],
   "version": "0.3.2",
   "views": {}
  },
  "kernelspec": {
   "display_name": "Python 3",
   "language": "python",
   "name": "python3"
  },
  "language_info": {
   "codemirror_mode": {
    "name": "ipython",
    "version": 3
   },
   "file_extension": ".py",
   "mimetype": "text/x-python",
   "name": "python",
   "nbconvert_exporter": "python",
   "pygments_lexer": "ipython3",
   "version": "3.6.2"
  }
 },
 "nbformat": 4,
 "nbformat_minor": 1
}
