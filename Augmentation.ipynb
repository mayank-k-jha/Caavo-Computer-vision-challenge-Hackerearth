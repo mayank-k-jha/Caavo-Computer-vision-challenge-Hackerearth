{
  "nbformat": 4,
  "nbformat_minor": 0,
  "metadata": {
    "colab": {
      "name": "Augmentation.ipynb",
      "version": "0.3.2",
      "views": {},
      "default_view": {},
      "provenance": [],
      "collapsed_sections": []
    },
    "kernelspec": {
      "name": "python3",
      "display_name": "Python 3"
    },
    "accelerator": "GPU"
  },
  "cells": [
    {
      "metadata": {
        "id": "IN_7rr5zR4uI",
        "colab_type": "code",
        "colab": {
          "autoexec": {
            "startup": false,
            "wait_interval": 0
          },
          "base_uri": "https://localhost:8080/",
          "height": 34
        },
        "outputId": "59516c3c-5b1b-4572-8b39-1cf2f44ff43f",
        "executionInfo": {
          "status": "ok",
          "timestamp": 1524320461968,
          "user_tz": -330,
          "elapsed": 4344,
          "user": {
            "displayName": "Mayank Kumar Jha",
            "photoUrl": "https://lh3.googleusercontent.com/a/default-user=s128",
            "userId": "111972953176201106405"
          }
        }
      },
      "cell_type": "code",
      "source": [
        "import pandas as pd\n",
        "import numpy as np\n",
        "import matplotlib.pyplot as plt\n",
        "import gc\n",
        "import seaborn as sns\n",
        "import matplotlib.pyplot as plt\n",
        "\n",
        "import tensorflow as tf\n",
        "\n",
        "from keras.applications import VGG16\n",
        "\n",
        "import cv2 as cv\n",
        "\n",
        "import zipfile\n",
        "\n",
        "from keras import models,layers\n",
        "import os,shutil\n",
        "from keras.preprocessing.image import ImageDataGenerator \n",
        "from keras import optimizers,metrics\n",
        "\n",
        "from collections import Counter\n",
        "\n",
        "\n",
        "from keras.models import Sequential\n",
        "from keras.layers import Dense, Dropout, Activation, Flatten\n",
        "from keras.optimizers import Adam\n",
        "from keras.layers.normalization import BatchNormalization\n",
        "from keras.utils import np_utils\n",
        "from keras.layers import Conv2D, MaxPooling2D, ZeroPadding2D, GlobalAveragePooling2D\n",
        "from keras.layers.advanced_activations import LeakyReLU \n",
        "from keras.preprocessing.image import ImageDataGenerator"
      ],
      "execution_count": 1,
      "outputs": [
        {
          "output_type": "stream",
          "text": [
            "Using TensorFlow backend.\n"
          ],
          "name": "stderr"
        }
      ]
    },
    {
      "metadata": {
        "id": "eJyg5okISAoq",
        "colab_type": "code",
        "colab": {
          "autoexec": {
            "startup": false,
            "wait_interval": 0
          },
          "base_uri": "https://localhost:8080/",
          "height": 34
        },
        "outputId": "d02617f5-c69f-413d-ab9f-1f45df2f173c",
        "executionInfo": {
          "status": "ok",
          "timestamp": 1524320464859,
          "user_tz": -330,
          "elapsed": 1743,
          "user": {
            "displayName": "Mayank Kumar Jha",
            "photoUrl": "https://lh3.googleusercontent.com/a/default-user=s128",
            "userId": "111972953176201106405"
          }
        }
      },
      "cell_type": "code",
      "source": [
        "tf.test.gpu_device_name()"
      ],
      "execution_count": 2,
      "outputs": [
        {
          "output_type": "execute_result",
          "data": {
            "text/plain": [
              "'/device:GPU:0'"
            ]
          },
          "metadata": {
            "tags": []
          },
          "execution_count": 2
        }
      ]
    },
    {
      "metadata": {
        "id": "l8XyhXd_SGRw",
        "colab_type": "code",
        "colab": {
          "autoexec": {
            "startup": false,
            "wait_interval": 0
          }
        }
      },
      "cell_type": "code",
      "source": [
        "# os.mkdir('../dataset/aug_train')"
      ],
      "execution_count": 0,
      "outputs": []
    },
    {
      "metadata": {
        "id": "H0PsIIAESh4t",
        "colab_type": "code",
        "colab": {
          "autoexec": {
            "startup": false,
            "wait_interval": 0
          }
        }
      },
      "cell_type": "code",
      "source": [
        "# for i in range(15):\n",
        "#   os.mkdir('../dataset/aug_train/'+str(i))"
      ],
      "execution_count": 0,
      "outputs": []
    },
    {
      "metadata": {
        "id": "vzM0KDqnVVMn",
        "colab_type": "code",
        "colab": {
          "autoexec": {
            "startup": false,
            "wait_interval": 0
          },
          "base_uri": "https://localhost:8080/",
          "height": 272
        },
        "outputId": "0af15d81-bc56-4aee-da8b-fba52be5662a",
        "executionInfo": {
          "status": "ok",
          "timestamp": 1524320488214,
          "user_tz": -330,
          "elapsed": 1528,
          "user": {
            "displayName": "Mayank Kumar Jha",
            "photoUrl": "https://lh3.googleusercontent.com/a/default-user=s128",
            "userId": "111972953176201106405"
          }
        }
      },
      "cell_type": "code",
      "source": [
        "for g in os.listdir('../dataset/train'):\n",
        "  print(g,'  ',len([i for i in os.listdir('../dataset/train/'+g)]))\n"
      ],
      "execution_count": 5,
      "outputs": [
        {
          "output_type": "stream",
          "text": [
            "10    3876\n",
            "9    4506\n",
            "4    7510\n",
            "3    6973\n",
            "5    581\n",
            "2    6746\n",
            "1    5259\n",
            "11    1061\n",
            "6    4321\n",
            "12    4121\n",
            "0    667\n",
            "13    2495\n",
            "14    558\n",
            "7    1061\n",
            "8    3190\n"
          ],
          "name": "stdout"
        }
      ]
    },
    {
      "metadata": {
        "id": "8kQ8xxK-SrGH",
        "colab_type": "code",
        "colab": {
          "autoexec": {
            "startup": false,
            "wait_interval": 0
          }
        }
      },
      "cell_type": "code",
      "source": [
        "from keras.preprocessing import image\n",
        "\n",
        "\n",
        "datagen = ImageDataGenerator(rotation_range=40,width_shift_range=0.2,height_shift_range=0.2,\n",
        "                             shear_range=0.2,zoom_range=0.2,horizontal_flip=True,\n",
        "                             fill_mode='nearest')"
      ],
      "execution_count": 0,
      "outputs": []
    },
    {
      "metadata": {
        "id": "odURMSoVSGcS",
        "colab_type": "code",
        "colab": {
          "autoexec": {
            "startup": false,
            "wait_interval": 0
          },
          "base_uri": "https://localhost:8080/",
          "height": 272
        },
        "outputId": "bd03b667-13e0-4379-daa7-b5b86ff9203c",
        "executionInfo": {
          "status": "ok",
          "timestamp": 1524320742449,
          "user_tz": -330,
          "elapsed": 54105,
          "user": {
            "displayName": "Mayank Kumar Jha",
            "photoUrl": "https://lh3.googleusercontent.com/a/default-user=s128",
            "userId": "111972953176201106405"
          }
        }
      },
      "cell_type": "code",
      "source": [
        "for jk in os.listdir('../dataset/train'):\n",
        "  print('Augmenting ',jk)\n",
        "  if len([i for i in os.listdir('../dataset/train/'+jk)]) <1000:\n",
        "    for i in os.listdir('../dataset/train/'+jk):\n",
        "      img = cv.resize(cv.imread('../dataset/train/'+jk+'/'+i,cv.IMREAD_GRAYSCALE),(150,150))\n",
        "      cntr = 0\n",
        "      for batch in datagen.flow(img.reshape(1,150,150,1), batch_size=1):\n",
        "        cv.imwrite('../dataset/aug_train/'+jk+'/'+str(cntr)+i,batch[0].reshape(150,150))\n",
        "        cntr+=1\n",
        "        if cntr>6:\n",
        "          break\n",
        "  elif  len([i for i in os.listdir('../dataset/train/'+jk)]) < 1500 :\n",
        "    for i in os.listdir('../dataset/train/'+jk):\n",
        "      img = cv.resize(cv.imread('../dataset/train/'+jk+'/'+i,cv.IMREAD_GRAYSCALE),(150,150))\n",
        "      cntr = 0\n",
        "      for batch in datagen.flow(img.reshape(1,150,150,1), batch_size=1):\n",
        "        cv.imwrite('../dataset/aug_train/'+jk+'/'+str(cntr)+i,batch[0].reshape(150,150))\n",
        "        cntr+=1\n",
        "        if cntr>3:\n",
        "          break\n"
      ],
      "execution_count": 7,
      "outputs": [
        {
          "output_type": "stream",
          "text": [
            "Augmenting  10\n",
            "Augmenting  9\n",
            "Augmenting  4\n",
            "Augmenting  3\n",
            "Augmenting  5\n",
            "Augmenting  2\n",
            "Augmenting  1\n",
            "Augmenting  11\n",
            "Augmenting  6\n",
            "Augmenting  12\n",
            "Augmenting  0\n",
            "Augmenting  13\n",
            "Augmenting  14\n",
            "Augmenting  7\n",
            "Augmenting  8\n"
          ],
          "name": "stdout"
        }
      ]
    },
    {
      "metadata": {
        "id": "x74bA74PSGg0",
        "colab_type": "code",
        "colab": {
          "autoexec": {
            "startup": false,
            "wait_interval": 0
          }
        }
      },
      "cell_type": "code",
      "source": [
        "for i in os.listdir('../dataset/aug_train'):\n",
        "  if len([j for j in os.listdir('../dataset/aug_train/'+i)]) >0:\n",
        "    for k in os.listdir('../dataset/aug_train/'+i):\n",
        "      shutil.move('../dataset/aug_train/'+i+'/'+k,'../dataset/train/'+i+'/'+k)"
      ],
      "execution_count": 0,
      "outputs": []
    },
    {
      "metadata": {
        "id": "OhnQ54l0SGlL",
        "colab_type": "code",
        "colab": {
          "autoexec": {
            "startup": false,
            "wait_interval": 0
          },
          "base_uri": "https://localhost:8080/",
          "height": 272
        },
        "outputId": "44bdd6d8-40c5-4624-db41-64224d10fc28",
        "executionInfo": {
          "status": "ok",
          "timestamp": 1524325398186,
          "user_tz": -330,
          "elapsed": 1281,
          "user": {
            "displayName": "Mayank Kumar Jha",
            "photoUrl": "https://lh3.googleusercontent.com/a/default-user=s128",
            "userId": "111972953176201106405"
          }
        }
      },
      "cell_type": "code",
      "source": [
        "for i in os.listdir('../dataset/train'):\n",
        "  print(len([j for j in os.listdir('../dataset/train/'+i)]))"
      ],
      "execution_count": 10,
      "outputs": [
        {
          "output_type": "stream",
          "text": [
            "3876\n",
            "4506\n",
            "7510\n",
            "6973\n",
            "4648\n",
            "6746\n",
            "5259\n",
            "5305\n",
            "4321\n",
            "4121\n",
            "5336\n",
            "2495\n",
            "4464\n",
            "5305\n",
            "3190\n"
          ],
          "name": "stdout"
        }
      ]
    },
    {
      "metadata": {
        "id": "AJFrXkR-SGpW",
        "colab_type": "code",
        "colab": {
          "autoexec": {
            "startup": false,
            "wait_interval": 0
          }
        }
      },
      "cell_type": "code",
      "source": [
        ""
      ],
      "execution_count": 0,
      "outputs": []
    },
    {
      "metadata": {
        "id": "130EPXC9SGtg",
        "colab_type": "code",
        "colab": {
          "autoexec": {
            "startup": false,
            "wait_interval": 0
          }
        }
      },
      "cell_type": "code",
      "source": [
        ""
      ],
      "execution_count": 0,
      "outputs": []
    },
    {
      "metadata": {
        "id": "LaRhHkjRSGxP",
        "colab_type": "code",
        "colab": {
          "autoexec": {
            "startup": false,
            "wait_interval": 0
          }
        }
      },
      "cell_type": "code",
      "source": [
        ""
      ],
      "execution_count": 0,
      "outputs": []
    },
    {
      "metadata": {
        "id": "vG4c7KqTSG0t",
        "colab_type": "code",
        "colab": {
          "autoexec": {
            "startup": false,
            "wait_interval": 0
          }
        }
      },
      "cell_type": "code",
      "source": [
        ""
      ],
      "execution_count": 0,
      "outputs": []
    },
    {
      "metadata": {
        "id": "b20xRgw9SG4m",
        "colab_type": "code",
        "colab": {
          "autoexec": {
            "startup": false,
            "wait_interval": 0
          }
        }
      },
      "cell_type": "code",
      "source": [
        ""
      ],
      "execution_count": 0,
      "outputs": []
    },
    {
      "metadata": {
        "id": "AO7dtAYDSG9G",
        "colab_type": "code",
        "colab": {
          "autoexec": {
            "startup": false,
            "wait_interval": 0
          }
        }
      },
      "cell_type": "code",
      "source": [
        ""
      ],
      "execution_count": 0,
      "outputs": []
    },
    {
      "metadata": {
        "id": "7-Dsu0_YSHEY",
        "colab_type": "code",
        "colab": {
          "autoexec": {
            "startup": false,
            "wait_interval": 0
          }
        }
      },
      "cell_type": "code",
      "source": [
        ""
      ],
      "execution_count": 0,
      "outputs": []
    },
    {
      "metadata": {
        "id": "HPcjQPmNSHGg",
        "colab_type": "code",
        "colab": {
          "autoexec": {
            "startup": false,
            "wait_interval": 0
          }
        }
      },
      "cell_type": "code",
      "source": [
        ""
      ],
      "execution_count": 0,
      "outputs": []
    },
    {
      "metadata": {
        "id": "0vxG2eAsSHIu",
        "colab_type": "code",
        "colab": {
          "autoexec": {
            "startup": false,
            "wait_interval": 0
          }
        }
      },
      "cell_type": "code",
      "source": [
        ""
      ],
      "execution_count": 0,
      "outputs": []
    },
    {
      "metadata": {
        "id": "X1jahL7gSHLD",
        "colab_type": "code",
        "colab": {
          "autoexec": {
            "startup": false,
            "wait_interval": 0
          }
        }
      },
      "cell_type": "code",
      "source": [
        ""
      ],
      "execution_count": 0,
      "outputs": []
    },
    {
      "metadata": {
        "id": "kaCdyxirSHNI",
        "colab_type": "code",
        "colab": {
          "autoexec": {
            "startup": false,
            "wait_interval": 0
          }
        }
      },
      "cell_type": "code",
      "source": [
        ""
      ],
      "execution_count": 0,
      "outputs": []
    },
    {
      "metadata": {
        "id": "fY0iQKr-SHP7",
        "colab_type": "code",
        "colab": {
          "autoexec": {
            "startup": false,
            "wait_interval": 0
          }
        }
      },
      "cell_type": "code",
      "source": [
        ""
      ],
      "execution_count": 0,
      "outputs": []
    },
    {
      "metadata": {
        "id": "BxekZJbUSHSn",
        "colab_type": "code",
        "colab": {
          "autoexec": {
            "startup": false,
            "wait_interval": 0
          }
        }
      },
      "cell_type": "code",
      "source": [
        ""
      ],
      "execution_count": 0,
      "outputs": []
    },
    {
      "metadata": {
        "id": "ukkD0RC3SHU5",
        "colab_type": "code",
        "colab": {
          "autoexec": {
            "startup": false,
            "wait_interval": 0
          }
        }
      },
      "cell_type": "code",
      "source": [
        ""
      ],
      "execution_count": 0,
      "outputs": []
    },
    {
      "metadata": {
        "id": "4-pXgd_nSHW2",
        "colab_type": "code",
        "colab": {
          "autoexec": {
            "startup": false,
            "wait_interval": 0
          }
        }
      },
      "cell_type": "code",
      "source": [
        ""
      ],
      "execution_count": 0,
      "outputs": []
    },
    {
      "metadata": {
        "id": "fjhVRdIQSHZF",
        "colab_type": "code",
        "colab": {
          "autoexec": {
            "startup": false,
            "wait_interval": 0
          }
        }
      },
      "cell_type": "code",
      "source": [
        ""
      ],
      "execution_count": 0,
      "outputs": []
    },
    {
      "metadata": {
        "id": "CqFGaSq0SHbP",
        "colab_type": "code",
        "colab": {
          "autoexec": {
            "startup": false,
            "wait_interval": 0
          }
        }
      },
      "cell_type": "code",
      "source": [
        ""
      ],
      "execution_count": 0,
      "outputs": []
    },
    {
      "metadata": {
        "id": "vn41VDIcSHdW",
        "colab_type": "code",
        "colab": {
          "autoexec": {
            "startup": false,
            "wait_interval": 0
          }
        }
      },
      "cell_type": "code",
      "source": [
        ""
      ],
      "execution_count": 0,
      "outputs": []
    },
    {
      "metadata": {
        "id": "GuoJWQDOSHfr",
        "colab_type": "code",
        "colab": {
          "autoexec": {
            "startup": false,
            "wait_interval": 0
          }
        }
      },
      "cell_type": "code",
      "source": [
        ""
      ],
      "execution_count": 0,
      "outputs": []
    },
    {
      "metadata": {
        "id": "s1MHvcvmSHiC",
        "colab_type": "code",
        "colab": {
          "autoexec": {
            "startup": false,
            "wait_interval": 0
          }
        }
      },
      "cell_type": "code",
      "source": [
        ""
      ],
      "execution_count": 0,
      "outputs": []
    },
    {
      "metadata": {
        "id": "IlBDV_HkSHka",
        "colab_type": "code",
        "colab": {
          "autoexec": {
            "startup": false,
            "wait_interval": 0
          }
        }
      },
      "cell_type": "code",
      "source": [
        ""
      ],
      "execution_count": 0,
      "outputs": []
    },
    {
      "metadata": {
        "id": "6FVnOWcGSHmw",
        "colab_type": "code",
        "colab": {
          "autoexec": {
            "startup": false,
            "wait_interval": 0
          }
        }
      },
      "cell_type": "code",
      "source": [
        ""
      ],
      "execution_count": 0,
      "outputs": []
    },
    {
      "metadata": {
        "id": "TMaqQ9RMSHpJ",
        "colab_type": "code",
        "colab": {
          "autoexec": {
            "startup": false,
            "wait_interval": 0
          }
        }
      },
      "cell_type": "code",
      "source": [
        ""
      ],
      "execution_count": 0,
      "outputs": []
    }
  ]
}